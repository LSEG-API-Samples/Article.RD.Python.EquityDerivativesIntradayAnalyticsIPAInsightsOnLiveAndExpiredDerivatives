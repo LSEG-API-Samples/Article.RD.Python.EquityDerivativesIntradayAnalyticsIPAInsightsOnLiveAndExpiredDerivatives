{
 "cells": [
  {
   "cell_type": "code",
   "execution_count": 1,
   "metadata": {},
   "outputs": [],
   "source": [
    "from IPA_Equity_Vola_n_Greeks_Class_019 import IPA_Equity_Vola_n_Greeeks"
   ]
  },
  {
   "cell_type": "code",
   "execution_count": 2,
   "metadata": {},
   "outputs": [],
   "source": [
    "%matplotlib inline\n",
    "from datetime import datetime, timedelta\n",
    "import plotly.graph_objects as go # `plotly` is a library used to render interactive graphs\n",
    "import IPython\n",
    "import ipywidgets as widgets\n",
    "from refinitiv_widgets import Select, MultiSelect, Button, TextFieldAutosuggest, Calendar, Select, Loader, TextField\n",
    "import copy\n",
    "import pandas as pd\n",
    "import numpy as np\n",
    "\n",
    "from dataclasses import dataclass\n",
    "\n",
    "@dataclass(frozen=True)\n",
    "class ExceptionData:\n",
    "    data: str\n",
    "\n",
    "class MyException(Exception):\n",
    "    def __init__(self, exception_details: ExceptionData):\n",
    "        self.details = exception_details\n",
    "    \n",
    "    def __str__(self):\n",
    "        return self.details.data\n",
    "\n",
    "\n",
    "def Eqty_ATM_Optn_Vola_n_Greeks(debug=False):\n",
    "\n",
    "    eqty_out = widgets.Output()\n",
    "    eqty_choice = TextFieldAutosuggest(placeholder='Equity Underlying', filters=['EQ', 'INDX'])\n",
    "    display(eqty_choice, eqty_out)  # This displays the box\n",
    "\n",
    "    c_p_select_out = widgets.Output()\n",
    "    c_p_choice = Select(\n",
    "        placeholder='Call or Put?', width=300.0)\n",
    "    c_p_choice.data = [\n",
    "        {'value': i, 'label': i, 'items': []}\n",
    "        for i in ['Call', 'Put']]\n",
    "    # display(c_p_choice, c_p_select_out) # If you want to display each choice box one above the other, you can use this line. I chose `HBox`s instead.\n",
    "\n",
    "    b_s_select_out = widgets.Output()\n",
    "    b_s_choice = Select(\n",
    "        placeholder='Buy or Sell?', width=300.0)\n",
    "    b_s_choice.data = [\n",
    "        {'value': i, 'label': i, 'items': []}\n",
    "        for i in ['Buy', 'Sell']]\n",
    "    # display(b_s_choice, b_s_select_out) # If you want to display each choice box one above the other, you can use this line. I chose `HBox`s instead.\n",
    "\n",
    "    # Display both choice boxes (`c_p_choice` & `b_s_choice`) horisontally, next to eachother.\n",
    "    display(widgets.HBox([c_p_choice, b_s_choice])) # This will display both choice boxes horisontally, next to eachother.\n",
    "\n",
    "    report_ccy_select_out = widgets.Output()\n",
    "    report_ccy_choice = Select(\n",
    "        placeholder='Report Currency?', width=300.0)\n",
    "    report_ccy_choice.data = [\n",
    "        {'value': i, 'label': i, 'items': []}\n",
    "        for i in ['EUR', 'USD', 'GBP', 'JPY']]\n",
    "    # display(report_ccy_choice, report_ccy_select_out) # If you want to display each choice box one above the other, you can use this line. I chose `HBox`s instead.\n",
    "    \n",
    "    option_price_side_select_out = widgets.Output()\n",
    "    option_price_side_choice = Select(\n",
    "        placeholder='Option Price Side?', width=300.0)\n",
    "    option_price_side_choice.data = [\n",
    "        {'value': i, 'label': i, 'items': []}\n",
    "        for i in ['Bid', 'Ask']]\n",
    "    # display(option_price_side_choice, option_price_side_select_out) # If you want to display each choice box one above the other, you can use this line. I chose `HBox`s instead.\n",
    "\n",
    "    # Display both choice boxes (`report_ccy_choice` & `option_price_side_choice`) horisontally, next to eachother.\n",
    "    display(widgets.HBox([report_ccy_choice, option_price_side_choice]))\n",
    "\n",
    "    print(\"\\n\")\n",
    "    print(\"Please enter the RIC of the reference Risk Free Rate, e.g.: for `.SPX`, go with `USDCFCFCTSA3M=`; for `.STOXX50E`, go with `EURIBOR3MD=`\")\n",
    "    rsk_free_rate_prct_out = widgets.Output()\n",
    "    rsk_free_rate_prct_choice = TextFieldAutosuggest(placeholder='Risk Free Instrument RIC', filters=['FX'])\n",
    "    display(rsk_free_rate_prct_choice, rsk_free_rate_prct_out)  # This displays the box\n",
    "\n",
    "\n",
    "    print(\"Maturity:\")\n",
    "    calendar = Calendar(\n",
    "        max=(datetime.now() + timedelta(days=30*5)).strftime('%Y-%m-%d'),\n",
    "        min=(datetime.now() - timedelta(days=30*5)).strftime('%Y-%m-%d'))\n",
    "    display(calendar)\n",
    "\n",
    "\n",
    "    widgets.DatePicker(\n",
    "        description='Start date:', continuous_update=False, max=(datetime.now() + timedelta(days=30*5)).strftime('%Y-%m-%d'))\n",
    "\n",
    "    # create widgets\n",
    "    button = Button('Create/Update Graph')\n",
    "    button_output = widgets.Output()\n",
    "\n",
    "    loader = Loader(visible=False)\n",
    "    loader.visible = not loader.visible\n",
    "\n",
    "    # create click handler\n",
    "    def click_handler(a):\n",
    "        with button_output:\n",
    "            IPython.display.clear_output(wait=True)\n",
    "\n",
    "            display(loader)\n",
    "            \n",
    "            if c_p_choice.value == \"\" or eqty_choice.value == \"\" or rsk_free_rate_prct_choice.value == \"\" or calendar.value == []:\n",
    "                IPython.display.clear_output(wait=True)\n",
    "                raise ValueError(\"Please make sure to complete all fields before running the program.\")\n",
    "\n",
    "            else:\n",
    "\n",
    "                if debug:\n",
    "                    print(f\"eqty_choice.value: {eqty_choice.value}\")\n",
    "                    print(f\"calendar.value[0]: {calendar.value[0]}\")\n",
    "                    print(f\"c_p_choice.value: {c_p_choice.value}\")\n",
    "                    print(f\"rsk_free_rate_prct_choice.value: {rsk_free_rate_prct_choice.value}\")\n",
    "\n",
    "                print(\"This may take a few minutes...\")\n",
    "\n",
    "                ipa_data = IPA_Equity_Vola_n_Greeeks(\n",
    "                    debug=debug,\n",
    "                    underlying=eqty_choice.value,\n",
    "                    strike=None,\n",
    "                    maturity=calendar.value[0], # \"2024-03-15\", # calendar.value,\n",
    "                    maturity_format = '%Y-%m-%d', # e.g.: '%Y-%m-%d', '%Y-%m-%d %H:%M:%S' or '%Y-%m-%dT%H:%M:%SZ'\n",
    "                    option_type = c_p_choice.value,\n",
    "                    buy_sell = b_s_choice.value,\n",
    "                    curr = report_ccy_choice.value,\n",
    "                    exercise_style = 'EURO',\n",
    "                    option_price_side = option_price_side_choice.value,\n",
    "                    underlying_time_stamp = 'Close',\n",
    "                    resample = '10min',  # You can consider this the 'bucket' or 'candles' from which calculations will be made.\n",
    "                    rsk_free_rate_prct = rsk_free_rate_prct_choice.value, # for `\".SPX\"`, I go with `'USDCFCFCTSA3M='`; for `\".STOXX50E\"`, I go with `'EURIBOR3MD='`\n",
    "                    rsk_free_rate_prct_field = 'TR.FIXINGVALUE' # for `\".SPX\"`, I go with `'TR.FIXINGVALUE'`; for `\".STOXX50E\"`, I go with `'TR.FIXINGVALUE'` too.\n",
    "                    ).initiate().get_data()\n",
    "                \n",
    "                fig, worked = ipa_data.graph(\n",
    "                    title=ipa_data.ipa_df_gmt_no_na.columns.name).fig, True\n",
    "\n",
    "                if worked:\n",
    "                    IPython.display.clear_output(wait=True)\n",
    "\n",
    "                fig.show()\n",
    "                \n",
    "                strikes_lst, undrlying_optn_ric_lst, df_gmt_lst, df_lst, fig_lst = ipa_data.cross_moneyness(smile_range=8)\n",
    "\n",
    "    # refister click handler for button\n",
    "    print(\"\\n\")\n",
    "    button.on_click(click_handler)\n",
    "    display(button)\n",
    "\n",
    "    # display our widgets\n",
    "    display(button_output)\n",
    "\n",
    "\n",
    "\n",
    "def Eqty_ATM_Optn_Impli_Vol_Smile(debug=False):\n",
    "\n",
    "    eqty_out = widgets.Output()\n",
    "    eqty_choice = TextFieldAutosuggest(placeholder='Equity Underlying', filters=['EQ', 'INDX'])\n",
    "    display(eqty_choice, eqty_out)  # This displays the box\n",
    "\n",
    "    c_p_select_out = widgets.Output()\n",
    "    c_p_choice = Select(\n",
    "        placeholder='Call or Put?', width=300.0)\n",
    "    c_p_choice.data = [\n",
    "        {'value': i, 'label': i, 'items': []}\n",
    "        for i in ['Call', 'Put']]\n",
    "    # display(c_p_choice, c_p_select_out) # If you want to display each choice box one above the other, you can use this line. I chose `HBox`s instead.\n",
    "\n",
    "    b_s_select_out = widgets.Output()\n",
    "    b_s_choice = Select(\n",
    "        placeholder='Buy or Sell?', width=300.0)\n",
    "    b_s_choice.data = [\n",
    "        {'value': i, 'label': i, 'items': []}\n",
    "        for i in ['Buy', 'Sell']]\n",
    "    # display(b_s_choice, b_s_select_out) # If you want to display each choice box one above the other, you can use this line. I chose `HBox`s instead.\n",
    "\n",
    "    # Display both choice boxes (`c_p_choice` & `b_s_choice`) horisontally, next to eachother.\n",
    "    display(widgets.HBox([c_p_choice, b_s_choice])) # This will display both choice boxes horisontally, next to eachother.\n",
    "\n",
    "    report_ccy_select_out = widgets.Output()\n",
    "    report_ccy_choice = Select(\n",
    "        placeholder='Report Currency?', width=300.0)\n",
    "    report_ccy_choice.data = [\n",
    "        {'value': i, 'label': i, 'items': []}\n",
    "        for i in ['EUR', 'USD', 'GBP', 'JPY']]\n",
    "    # display(report_ccy_choice, report_ccy_select_out) # If you want to display each choice box one above the other, you can use this line. I chose `HBox`s instead.\n",
    "    \n",
    "    option_price_side_select_out = widgets.Output()\n",
    "    option_price_side_choice = Select(\n",
    "        placeholder='Option Price Side?', width=300.0)\n",
    "    option_price_side_choice.data = [\n",
    "        {'value': i, 'label': i, 'items': []}\n",
    "        for i in ['Let Program Choose', 'Bid', 'Ask']]\n",
    "    # display(option_price_side_choice, option_price_side_select_out) # If you want to display each choice box one above the other, you can use this line. I chose `HBox`s instead.\n",
    "\n",
    "    # Display both choice boxes (`report_ccy_choice` & `option_price_side_choice`) horisontally, next to eachother.\n",
    "    display(widgets.HBox([report_ccy_choice, option_price_side_choice]))\n",
    "\n",
    "    print(\"\\n\")\n",
    "    print(\"Please enter the RIC of the reference Risk Free Rate, e.g.: for `.SPX`, go with `USDCFCFCTSA3M=`; for `.STOXX50E`, go with `EURIBOR3MD=`\")\n",
    "    rsk_free_rate_prct_out = widgets.Output()\n",
    "    rsk_free_rate_prct_choice = TextFieldAutosuggest(placeholder='Risk Free Instrument RIC', filters=['FX'])\n",
    "    display(rsk_free_rate_prct_choice, rsk_free_rate_prct_out)  # This displays the box\n",
    "\n",
    "\n",
    "    smile_rnge_select_out = widgets.Output()\n",
    "    smile_rnge_choice = Select(\n",
    "        placeholder='Smile Moneyness Range', width=300.0)\n",
    "    smile_rnge_choice.data = [\n",
    "        {'value': str(i), 'label': str(i), 'items': []}\n",
    "        for i in range(15)]\n",
    "    display(smile_rnge_choice, smile_rnge_select_out)\n",
    "\n",
    "\n",
    "    print(\"Maturity (note that most Options mature on the third Friday of the month):\")\n",
    "    calendar = Calendar(\n",
    "        max=(datetime.now() + timedelta(days=30*5)).strftime('%Y-%m-%d'),\n",
    "        min=(datetime.now() - timedelta(days=30*5)).strftime('%Y-%m-%d'))\n",
    "    display(calendar)\n",
    "\n",
    "\n",
    "    widgets.DatePicker(\n",
    "        description='Start date:', continuous_update=False, max=(datetime.now() + timedelta(days=30*5)).strftime('%Y-%m-%d'))\n",
    "\n",
    "    # create widgets\n",
    "    button = Button('Create/Update Graph')\n",
    "    button_output = widgets.Output()\n",
    "\n",
    "    loader = Loader(visible=False)\n",
    "    loader.visible = not loader.visible\n",
    "\n",
    "    # create click handler\n",
    "    def click_handler(a):\n",
    "        with button_output:\n",
    "            IPython.display.clear_output(wait=True)\n",
    "\n",
    "            display(loader)\n",
    "            \n",
    "            if c_p_choice.value == \"\" or eqty_choice.value == \"\" or rsk_free_rate_prct_choice.value == \"\" or calendar.value == []:\n",
    "                IPython.display.clear_output(wait=True)\n",
    "                raise ValueError(\"Please make sure to complete all fields before running the program.\")\n",
    "\n",
    "            else:\n",
    "\n",
    "                if debug:\n",
    "                    print(f\"eqty_choice.value: {eqty_choice.value}\")\n",
    "                    print(f\"calendar.value[0]: {calendar.value[0]}\")\n",
    "                    print(f\"c_p_choice.value: {c_p_choice.value}\")\n",
    "                    print(f\"rsk_free_rate_prct_choice.value: {rsk_free_rate_prct_choice.value}\")\n",
    "\n",
    "                print(\"This may take a few minutes...\")\n",
    "\n",
    "                # Above, we created an option for the `option_price_side_choice` to allow users to not choose a price side.\n",
    "                # In the if statement below, we translate this choice to one that the `IPA_Equity_Vola_n_Greeeks` funciton will understand.\n",
    "                if option_price_side_choice.value == \"Let Program Choose\":\n",
    "                    option_price_side_choice_val = None\n",
    "                else:\n",
    "                    option_price_side_choice_val = option_price_side_choice.value\n",
    "\n",
    "                ipa_data = IPA_Equity_Vola_n_Greeeks(\n",
    "                    debug=debug,\n",
    "                    underlying=eqty_choice.value,\n",
    "                    strike=None,\n",
    "                    maturity=calendar.value[0], # \"2024-03-15\", # calendar.value,\n",
    "                    maturity_format = '%Y-%m-%d', # e.g.: '%Y-%m-%d', '%Y-%m-%d %H:%M:%S' or '%Y-%m-%dT%H:%M:%SZ'\n",
    "                    option_type = c_p_choice.value,\n",
    "                    buy_sell = b_s_choice.value,\n",
    "                    curr = report_ccy_choice.value,\n",
    "                    exercise_style = 'EURO',\n",
    "                    option_price_side = option_price_side_choice_val,\n",
    "                    underlying_time_stamp = 'Close',\n",
    "                    resample = '10min',  # You can consider this the 'bucket' or 'candles' from which calculations will be made.\n",
    "                    rsk_free_rate_prct = rsk_free_rate_prct_choice.value, # for `\".SPX\"`, I go with `'USDCFCFCTSA3M='`; for `\".STOXX50E\"`, I go with `'EURIBOR3MD='`\n",
    "                    rsk_free_rate_prct_field = 'TR.FIXINGVALUE' # for `\".SPX\"`, I go with `'TR.FIXINGVALUE'`; for `\".STOXX50E\"`, I go with `'TR.FIXINGVALUE'` too.\n",
    "                    ).initiate().get_data()\n",
    "                \n",
    "                sngl_fig, worked = ipa_data.graph(\n",
    "                    title=ipa_data.ipa_df_gmt_no_na.columns.name).fig, True\n",
    "\n",
    "                strikes_lst, undrlying_optn_ric_lst, df_gmt_lst, df_lst, fig_lst = ipa_data.cross_moneyness(\n",
    "                    smile_range=int(smile_rnge_choice.value))\n",
    "\n",
    "                if debug:\n",
    "                    print(strikes_lst)\n",
    "                    display(fig_lst[0])\n",
    "                    display(fig_lst[-1])\n",
    "\n",
    "                volatility_result = pd.concat([i.Volatility for i in df_lst], axis=1, join=\"outer\")\n",
    "                volatility_result.columns = [str(int(i)) for i in strikes_lst]\n",
    "                volatility_result.index.name = \"ImpliedVolatilities\"\n",
    "                volatility_result\n",
    "\n",
    "                df = volatility_result.copy()\n",
    "                # Assuming df is your DataFrame and 'timestamp' is your time column\n",
    "                df['timestamp'] = df.index\n",
    "                df.timestamp = pd.to_datetime(df.timestamp)\n",
    "                df.set_index('timestamp', inplace=True)\n",
    "\n",
    "                # Resample to daily data and compute daily averages\n",
    "                daily_df = df.resample('7D').mean()\n",
    "\n",
    "                # Fill NA/NaN values using the specified method\n",
    "                daily_df_filled = daily_df.fillna(np.nan).astype(float).dropna()\n",
    "                daily_df_filled.index = [str(i) for i in daily_df_filled.index]\n",
    "                daily_df_filled = daily_df_filled.T\n",
    "\n",
    "                # Let's go back to the `sngl_fig` figure created above\n",
    "                if worked:\n",
    "                    IPython.display.clear_output(wait=True)\n",
    "                sngl_fig.show()\n",
    "\n",
    "\n",
    "                # Now let's get back to our Smile figure:\n",
    "                smile_fig = go.Figure()\n",
    "\n",
    "                # Add traces (lines) for each column\n",
    "                for col in daily_df_filled.columns:\n",
    "                    smile_fig.add_trace(\n",
    "                        go.Scatter(\n",
    "                            x=daily_df_filled.index,\n",
    "                            y=daily_df_filled[col],\n",
    "                            mode='lines', name=col))\n",
    "\n",
    "                smile_fig.update_layout(\n",
    "                    title=\"Volatility Smiles\",\n",
    "                    template=\"plotly_dark\")\n",
    "\n",
    "                smile_fig.show()\n",
    "\n",
    "    # refister click handler for button\n",
    "    print(\"\\n\")\n",
    "    button.on_click(click_handler)\n",
    "    display(button)\n",
    "\n",
    "    # display our widgets\n",
    "    display(button_output)"
   ]
  },
  {
   "cell_type": "code",
   "execution_count": 3,
   "metadata": {
    "tags": []
   },
   "outputs": [],
   "source": [
    "# Eqty_ATM_Optn_Vola_n_Greeks(debug=False)"
   ]
  },
  {
   "cell_type": "code",
   "execution_count": 4,
   "metadata": {
    "tags": []
   },
   "outputs": [
    {
     "data": {
      "application/vnd.jupyter.widget-view+json": {
       "model_id": "896a0e5d2dbf4582a42bf5882cd51bda",
       "version_major": 2,
       "version_minor": 0
      },
      "text/plain": [
       "TextFieldAutosuggest(value='', filters=['EQ', 'INDX'], placeholder='Equity Underlying', profile='', tooltip=''…"
      ]
     },
     "metadata": {},
     "output_type": "display_data"
    },
    {
     "data": {
      "application/vnd.jupyter.widget-view+json": {
       "model_id": "5d95a4ee0b4047ab9669b2a34db14768",
       "version_major": 2,
       "version_minor": 0
      },
      "text/plain": [
       "Output()"
      ]
     },
     "metadata": {},
     "output_type": "display_data"
    },
    {
     "data": {
      "application/vnd.jupyter.widget-view+json": {
       "model_id": "012a33f0c5194df292dd94907d0fb179",
       "version_major": 2,
       "version_minor": 0
      },
      "text/plain": [
       "HBox(children=(Select(data=[{'value': 'Call', 'label': 'Call', 'items': []}, {'value': 'Put', 'label': 'Put', …"
      ]
     },
     "metadata": {},
     "output_type": "display_data"
    },
    {
     "data": {
      "application/vnd.jupyter.widget-view+json": {
       "model_id": "85854c960a0246a9b56a35c8a1117539",
       "version_major": 2,
       "version_minor": 0
      },
      "text/plain": [
       "HBox(children=(Select(data=[{'value': 'EUR', 'label': 'EUR', 'items': []}, {'value': 'USD', 'label': 'USD', 'i…"
      ]
     },
     "metadata": {},
     "output_type": "display_data"
    },
    {
     "name": "stdout",
     "output_type": "stream",
     "text": [
      "\n",
      "\n",
      "Please enter the RIC of the reference Risk Free Rate, e.g.: for `.SPX`, go with `USDCFCFCTSA3M=`; for `.STOXX50E`, go with `EURIBOR3MD=`\n"
     ]
    },
    {
     "data": {
      "application/vnd.jupyter.widget-view+json": {
       "model_id": "db6f9517213d49078298d5c27480ff21",
       "version_major": 2,
       "version_minor": 0
      },
      "text/plain": [
       "TextFieldAutosuggest(value='', filters=['FX'], placeholder='Risk Free Instrument RIC', profile='', tooltip='')"
      ]
     },
     "metadata": {},
     "output_type": "display_data"
    },
    {
     "data": {
      "application/vnd.jupyter.widget-view+json": {
       "model_id": "a5fb7215fbdb42c3a3c2c9ac80cdc345",
       "version_major": 2,
       "version_minor": 0
      },
      "text/plain": [
       "Output()"
      ]
     },
     "metadata": {},
     "output_type": "display_data"
    },
    {
     "data": {
      "application/vnd.jupyter.widget-view+json": {
       "model_id": "fbd0bdc4b49549959e2b68026bed112e",
       "version_major": 2,
       "version_minor": 0
      },
      "text/plain": [
       "Select(data=[{'value': '0', 'label': '0', 'items': []}, {'value': '1', 'label': '1', 'items': []}, {'value': '…"
      ]
     },
     "metadata": {},
     "output_type": "display_data"
    },
    {
     "data": {
      "application/vnd.jupyter.widget-view+json": {
       "model_id": "5b51acd310d4452d981c444e1d605ca1",
       "version_major": 2,
       "version_minor": 0
      },
      "text/plain": [
       "Output()"
      ]
     },
     "metadata": {},
     "output_type": "display_data"
    },
    {
     "name": "stdout",
     "output_type": "stream",
     "text": [
      "Maturity (note that most Options mature on the third Friday of the month):\n"
     ]
    },
    {
     "data": {
      "application/vnd.jupyter.widget-view+json": {
       "model_id": "b1af8c0fdc184b3fa62160d2d238ac62",
       "version_major": 2,
       "version_minor": 0
      },
      "text/plain": [
       "Calendar(max='2024-09-12', min='2023-11-17', tooltip='', width=0.0)"
      ]
     },
     "metadata": {},
     "output_type": "display_data"
    },
    {
     "name": "stdout",
     "output_type": "stream",
     "text": [
      "\n",
      "\n"
     ]
    },
    {
     "data": {
      "application/vnd.jupyter.widget-view+json": {
       "model_id": "cd08d2848e2b4a108bd734cbe27397ec",
       "version_major": 2,
       "version_minor": 0
      },
      "text/plain": [
       "Button(height=0.0, tooltip='', value='Create/Update Graph', width=0.0)"
      ]
     },
     "metadata": {},
     "output_type": "display_data"
    },
    {
     "data": {
      "application/vnd.jupyter.widget-view+json": {
       "model_id": "a96465fe2ab84caba6e3ee06008accea",
       "version_major": 2,
       "version_minor": 0
      },
      "text/plain": [
       "Output()"
      ]
     },
     "metadata": {},
     "output_type": "display_data"
    }
   ],
   "source": [
    "Eqty_ATM_Optn_Impli_Vol_Smile(debug=True)"
   ]
  },
  {
   "cell_type": "code",
   "execution_count": 5,
   "metadata": {
    "tags": []
   },
   "outputs": [],
   "source": [
    "# ## For Testing:\n",
    "\n",
    "# # # # e.g. not supported `2222.SE`, `6758.T`, `6501.T`\n",
    "# # # # e.g. supported `.SPX`, `VOD.L`, `LSEG.L`\n",
    "\n",
    "# tst = IPA_Equity_Vola_n_Greeeks(\n",
    "#     debug=False,\n",
    "#     underlying=\".SPX\",\n",
    "#     # strike=9150,\n",
    "#     atm_range=40,\n",
    "#     atm_intervals=10,\n",
    "#     atm_round_to_nearest=10,\n",
    "#     atm_direction=None,\n",
    "#     maturity=\"2024-05-17\",\n",
    "#     maturity_format = '%Y-%m-%d', # e.g.: '%Y-%m-%d', '%Y-%m-%d %H:%M:%S' or '%Y-%m-%dT%H:%M:%SZ'\n",
    "#     option_type = \"Call\",\n",
    "#     buy_sell = \"buy\",\n",
    "#     curr = \"USD\",\n",
    "#     exercise_style = 'EURO',\n",
    "#     option_price_side = \"Bid\",\n",
    "#     underlying_time_stamp = 'Close',\n",
    "#     resample = '10min',  # You can consider this the 'bucket' or 'candles' from which calculations will be made.\n",
    "#     rsk_free_rate_prct = \"USDCFCFCTSA3M=\",\n",
    "#     rsk_free_rate_prct_field = 'TR.FIXINGVALUE', # for `\".SPX\"`, I go with `'TR.FIXINGVALUE'`; for `\".STOXX50E\"`, I go with `'TR.FIXINGVALUE'` too.\n",
    "#     # interval = rd.content.historical_pricing.Intervals.FIVE_MINUTES,\n",
    "#     corr=True\n",
    "#     ).initiate().get_data()\n",
    "# fig = tst.graph(\n",
    "#     title=tst.ipa_df_gmt_no_na.columns.name).fig\n",
    "# fig.show()"
   ]
  },
  {
   "cell_type": "code",
   "execution_count": 6,
   "metadata": {},
   "outputs": [],
   "source": [
    "# tst.strike"
   ]
  },
  {
   "cell_type": "code",
   "execution_count": 7,
   "metadata": {
    "tags": []
   },
   "outputs": [],
   "source": [
    "# strikes_lst, undrlying_optn_ric_lst, df_gmt_lst, df_lst, fig_lst = tst.cross_moneyness(smile_range=8)"
   ]
  },
  {
   "cell_type": "code",
   "execution_count": 8,
   "metadata": {},
   "outputs": [],
   "source": [
    "# strikes_lst"
   ]
  },
  {
   "cell_type": "code",
   "execution_count": 9,
   "metadata": {},
   "outputs": [],
   "source": [
    "# fig_lst[2]"
   ]
  },
  {
   "cell_type": "code",
   "execution_count": 10,
   "metadata": {
    "tags": []
   },
   "outputs": [],
   "source": [
    "# import pandas as pd\n",
    "# volatility_result = pd.concat([i.Volatility for i in df_lst], axis=1, join=\"outer\")\n",
    "# volatility_result.columns = [str(int(i)) for i in strikes_lst]\n",
    "# volatility_result.index.name = \"ImpliedVolatilities\"\n",
    "# volatility_result"
   ]
  },
  {
   "cell_type": "code",
   "execution_count": 11,
   "metadata": {},
   "outputs": [],
   "source": [
    "# # UnderlyingPrice_result = pd.concat([i.UnderlyingPrice for i in df_lst], axis=1, join=\"outer\")\n",
    "# # UnderlyingPrice_result.columns = [str(int(i)) for i in strikes_lst]\n",
    "# # UnderlyingPrice_result.index.name = \"UnderlyingPrice\"\n",
    "# \n",
    "# # df = UnderlyingPrice_result.copy()\n",
    "# \n",
    "# # # Assuming df is your DataFrame and 'timestamp' is your time column\n",
    "# # df['timestamp'] = df.index\n",
    "# # df.timestamp = pd.to_datetime(df.timestamp)\n",
    "# # df.set_index('timestamp', inplace=True)\n",
    "# \n",
    "# # # Resample to daily data and compute daily averages\n",
    "# # daily_df = df.resample('3D').mean()"
   ]
  },
  {
   "cell_type": "code",
   "execution_count": 12,
   "metadata": {},
   "outputs": [],
   "source": [
    "# df = volatility_result.copy()\n",
    "\n",
    "# # Assuming df is your DataFrame and 'timestamp' is your time column\n",
    "# df['timestamp'] = df.index\n",
    "# df.timestamp = pd.to_datetime(df.timestamp)\n",
    "# df.set_index('timestamp', inplace=True)\n",
    "\n",
    "# # Resample to daily data and compute daily averages\n",
    "# daily_df = df.resample('7D').mean()\n",
    "\n",
    "# daily_df"
   ]
  },
  {
   "cell_type": "code",
   "execution_count": 13,
   "metadata": {},
   "outputs": [],
   "source": [
    "# # Assuming df is your DataFrame\n",
    "# na_counts = daily_df.T.isna().sum()\n",
    "# column_with_fewest_na = na_counts.idxmin()\n",
    "# print(\"Implied Volatility Smile for .SPX Call Option Maturing on 2024-05-17 as of: \")\n",
    "# print(column_with_fewest_na)\n",
    "# daily_df.loc[column_with_fewest_na].plot()"
   ]
  },
  {
   "cell_type": "code",
   "execution_count": 14,
   "metadata": {},
   "outputs": [],
   "source": [
    "# import numpy as np\n",
    "# # `plotly` is a library used to render interactive graphs:\n",
    "# import plotly.offline as pyo\n",
    "# import plotly.graph_objects as go\n",
    "# import plotly.express as px  # This is just to see the implied vol graph when that field is available\n",
    "# import matplotlib.pyplot as plt  # We use `matplotlib` to just in case users do not have an environment suited to `plotly`.\n",
    "\n",
    "# # Fill NA/NaN values using the specified method\n",
    "# daily_df_filled = daily_df.fillna(np.nan).astype(float).dropna()\n",
    "# daily_df_filled.index = [str(i) for i in daily_df_filled.index]\n",
    "# daily_df_filled = daily_df_filled.T\n",
    "\n",
    "# fig = go.Figure()\n",
    "\n",
    "# # Add traces (lines) for each column\n",
    "# for col in daily_df_filled.columns:\n",
    "#     fig.add_trace(\n",
    "#         go.Scatter(\n",
    "#             x=daily_df_filled.index,\n",
    "#             y=daily_df_filled[col],\n",
    "#             mode='lines', name=col))\n",
    "\n",
    "# fig.show()"
   ]
  },
  {
   "cell_type": "code",
   "execution_count": 15,
   "metadata": {},
   "outputs": [
    {
     "data": {
      "text/plain": [
       "<refinitiv.data.session.Definition object at 0x7ff7cde1cf70 {name='codebook'}>"
      ]
     },
     "execution_count": 15,
     "metadata": {},
     "output_type": "execute_result"
    }
   ],
   "source": [
    "import refinitiv.data as rd\n",
    "rd.open_session()"
   ]
  },
  {
   "cell_type": "code",
   "execution_count": 16,
   "metadata": {},
   "outputs": [],
   "source": [
    "optn_mrkt_pr_gmt = rd.content.historical_pricing.summaries.Definition(\n",
    "    universe=\"MSFT.O\",\n",
    "    start=\"2024-01-10\",\n",
    "    end=\"2024-01-17\",\n",
    "    # interval=self.data_retrieval_interval,\n",
    "    fields=['TRDPRC_1', 'SETTLE', 'Bid', 'ASK']\n",
    "    ).get_data().data.df"
   ]
  },
  {
   "cell_type": "code",
   "execution_count": 17,
   "metadata": {},
   "outputs": [
    {
     "data": {
      "text/html": [
       "<div>\n",
       "<style scoped>\n",
       "    .dataframe tbody tr th:only-of-type {\n",
       "        vertical-align: middle;\n",
       "    }\n",
       "\n",
       "    .dataframe tbody tr th {\n",
       "        vertical-align: top;\n",
       "    }\n",
       "\n",
       "    .dataframe thead th {\n",
       "        text-align: right;\n",
       "    }\n",
       "</style>\n",
       "<table border=\"1\" class=\"dataframe\">\n",
       "  <thead>\n",
       "    <tr style=\"text-align: right;\">\n",
       "      <th>MSFT.O</th>\n",
       "      <th>TRDPRC_1</th>\n",
       "      <th>SETTLE</th>\n",
       "      <th>Bid</th>\n",
       "      <th>ASK</th>\n",
       "    </tr>\n",
       "    <tr>\n",
       "      <th>Date</th>\n",
       "      <th></th>\n",
       "      <th></th>\n",
       "      <th></th>\n",
       "      <th></th>\n",
       "    </tr>\n",
       "  </thead>\n",
       "  <tbody>\n",
       "    <tr>\n",
       "      <th>2024-01-11</th>\n",
       "      <td>384.63</td>\n",
       "      <td>&lt;NA&gt;</td>\n",
       "      <td>&lt;NA&gt;</td>\n",
       "      <td>384.66</td>\n",
       "    </tr>\n",
       "    <tr>\n",
       "      <th>2024-01-12</th>\n",
       "      <td>388.47</td>\n",
       "      <td>&lt;NA&gt;</td>\n",
       "      <td>&lt;NA&gt;</td>\n",
       "      <td>388.45</td>\n",
       "    </tr>\n",
       "    <tr>\n",
       "      <th>2024-01-16</th>\n",
       "      <td>390.27</td>\n",
       "      <td>&lt;NA&gt;</td>\n",
       "      <td>&lt;NA&gt;</td>\n",
       "      <td>390.28</td>\n",
       "    </tr>\n",
       "    <tr>\n",
       "      <th>2024-01-17</th>\n",
       "      <td>389.47</td>\n",
       "      <td>&lt;NA&gt;</td>\n",
       "      <td>&lt;NA&gt;</td>\n",
       "      <td>389.53</td>\n",
       "    </tr>\n",
       "  </tbody>\n",
       "</table>\n",
       "</div>"
      ],
      "text/plain": [
       "MSFT.O      TRDPRC_1  SETTLE   Bid     ASK\n",
       "Date                                      \n",
       "2024-01-11    384.63    <NA>  <NA>  384.66\n",
       "2024-01-12    388.47    <NA>  <NA>  388.45\n",
       "2024-01-16    390.27    <NA>  <NA>  390.28\n",
       "2024-01-17    389.47    <NA>  <NA>  389.53"
      ]
     },
     "execution_count": 17,
     "metadata": {},
     "output_type": "execute_result"
    }
   ],
   "source": [
    "optn_mrkt_pr_gmt"
   ]
  },
  {
   "cell_type": "code",
   "execution_count": 18,
   "metadata": {},
   "outputs": [],
   "source": [
    "optn_mrkt_pr_gmt_cnt = optn_mrkt_pr_gmt.count()"
   ]
  },
  {
   "cell_type": "code",
   "execution_count": 19,
   "metadata": {},
   "outputs": [
    {
     "name": "stdout",
     "output_type": "stream",
     "text": [
      "2\n"
     ]
    }
   ],
   "source": [
    "if 'BID' in optn_mrkt_pr_gmt.columns:\n",
    "    print(\"1\")\n",
    "elif 'Bid' in optn_mrkt_pr_gmt.columns:\n",
    "    print(2)\n",
    "else:\n",
    "    print(3)"
   ]
  },
  {
   "cell_type": "code",
   "execution_count": 20,
   "metadata": {},
   "outputs": [
    {
     "data": {
      "text/html": [
       "<div>\n",
       "<style scoped>\n",
       "    .dataframe tbody tr th:only-of-type {\n",
       "        vertical-align: middle;\n",
       "    }\n",
       "\n",
       "    .dataframe tbody tr th {\n",
       "        vertical-align: top;\n",
       "    }\n",
       "\n",
       "    .dataframe thead th {\n",
       "        text-align: right;\n",
       "    }\n",
       "</style>\n",
       "<table border=\"1\" class=\"dataframe\">\n",
       "  <thead>\n",
       "    <tr style=\"text-align: right;\">\n",
       "      <th>.SPX</th>\n",
       "      <th>BID</th>\n",
       "      <th>ASK</th>\n",
       "      <th>TRDPRC_1</th>\n",
       "      <th>SETTLE</th>\n",
       "    </tr>\n",
       "    <tr>\n",
       "      <th>Timestamp</th>\n",
       "      <th></th>\n",
       "      <th></th>\n",
       "      <th></th>\n",
       "      <th></th>\n",
       "    </tr>\n",
       "  </thead>\n",
       "  <tbody>\n",
       "    <tr>\n",
       "      <th>2023-05-30 13:30:00</th>\n",
       "      <td>&lt;NA&gt;</td>\n",
       "      <td>&lt;NA&gt;</td>\n",
       "      <td>4217.66</td>\n",
       "      <td>&lt;NA&gt;</td>\n",
       "    </tr>\n",
       "    <tr>\n",
       "      <th>2023-05-30 14:00:00</th>\n",
       "      <td>&lt;NA&gt;</td>\n",
       "      <td>&lt;NA&gt;</td>\n",
       "      <td>4211.14</td>\n",
       "      <td>&lt;NA&gt;</td>\n",
       "    </tr>\n",
       "    <tr>\n",
       "      <th>2023-05-30 14:30:00</th>\n",
       "      <td>&lt;NA&gt;</td>\n",
       "      <td>&lt;NA&gt;</td>\n",
       "      <td>4211.29</td>\n",
       "      <td>&lt;NA&gt;</td>\n",
       "    </tr>\n",
       "    <tr>\n",
       "      <th>2023-05-30 15:00:00</th>\n",
       "      <td>&lt;NA&gt;</td>\n",
       "      <td>&lt;NA&gt;</td>\n",
       "      <td>4209.24</td>\n",
       "      <td>&lt;NA&gt;</td>\n",
       "    </tr>\n",
       "    <tr>\n",
       "      <th>2023-05-30 15:30:00</th>\n",
       "      <td>&lt;NA&gt;</td>\n",
       "      <td>&lt;NA&gt;</td>\n",
       "      <td>4211.67</td>\n",
       "      <td>&lt;NA&gt;</td>\n",
       "    </tr>\n",
       "    <tr>\n",
       "      <th>...</th>\n",
       "      <td>...</td>\n",
       "      <td>...</td>\n",
       "      <td>...</td>\n",
       "      <td>...</td>\n",
       "    </tr>\n",
       "    <tr>\n",
       "      <th>2023-11-16 19:00:00</th>\n",
       "      <td>&lt;NA&gt;</td>\n",
       "      <td>&lt;NA&gt;</td>\n",
       "      <td>4495.72</td>\n",
       "      <td>&lt;NA&gt;</td>\n",
       "    </tr>\n",
       "    <tr>\n",
       "      <th>2023-11-16 19:30:00</th>\n",
       "      <td>&lt;NA&gt;</td>\n",
       "      <td>&lt;NA&gt;</td>\n",
       "      <td>4501.93</td>\n",
       "      <td>&lt;NA&gt;</td>\n",
       "    </tr>\n",
       "    <tr>\n",
       "      <th>2023-11-16 20:00:00</th>\n",
       "      <td>&lt;NA&gt;</td>\n",
       "      <td>&lt;NA&gt;</td>\n",
       "      <td>4502.27</td>\n",
       "      <td>&lt;NA&gt;</td>\n",
       "    </tr>\n",
       "    <tr>\n",
       "      <th>2023-11-16 20:30:00</th>\n",
       "      <td>&lt;NA&gt;</td>\n",
       "      <td>&lt;NA&gt;</td>\n",
       "      <td>4508.43</td>\n",
       "      <td>&lt;NA&gt;</td>\n",
       "    </tr>\n",
       "    <tr>\n",
       "      <th>2023-11-16 21:00:00</th>\n",
       "      <td>&lt;NA&gt;</td>\n",
       "      <td>&lt;NA&gt;</td>\n",
       "      <td>4508.24</td>\n",
       "      <td>&lt;NA&gt;</td>\n",
       "    </tr>\n",
       "  </tbody>\n",
       "</table>\n",
       "<p>1793 rows × 4 columns</p>\n",
       "</div>"
      ],
      "text/plain": [
       ".SPX                  BID   ASK  TRDPRC_1  SETTLE\n",
       "Timestamp                                        \n",
       "2023-05-30 13:30:00  <NA>  <NA>   4217.66    <NA>\n",
       "2023-05-30 14:00:00  <NA>  <NA>   4211.14    <NA>\n",
       "2023-05-30 14:30:00  <NA>  <NA>   4211.29    <NA>\n",
       "2023-05-30 15:00:00  <NA>  <NA>   4209.24    <NA>\n",
       "2023-05-30 15:30:00  <NA>  <NA>   4211.67    <NA>\n",
       "...                   ...   ...       ...     ...\n",
       "2023-11-16 19:00:00  <NA>  <NA>   4495.72    <NA>\n",
       "2023-11-16 19:30:00  <NA>  <NA>   4501.93    <NA>\n",
       "2023-11-16 20:00:00  <NA>  <NA>   4502.27    <NA>\n",
       "2023-11-16 20:30:00  <NA>  <NA>   4508.43    <NA>\n",
       "2023-11-16 21:00:00  <NA>  <NA>   4508.24    <NA>\n",
       "\n",
       "[1793 rows x 4 columns]"
      ]
     },
     "execution_count": 20,
     "metadata": {},
     "output_type": "execute_result"
    }
   ],
   "source": [
    "rd.content.historical_pricing.summaries.Definition(\n",
    "    universe='.SPX', start='2023-05-29T07:00:00.000000', end='2023-11-16T21:30:00.000000', interval='PT30M',\n",
    "    fields=['BID', 'ASK', 'TRDPRC_1', 'SETTLE']).get_data().data.df"
   ]
  },
  {
   "cell_type": "code",
   "execution_count": null,
   "metadata": {},
   "outputs": [],
   "source": []
  }
 ],
 "metadata": {
  "kernelspec": {
   "display_name": "Python 3",
   "language": "python",
   "name": "python3"
  },
  "language_info": {
   "codemirror_mode": {
    "name": "ipython",
    "version": 3
   },
   "file_extension": ".py",
   "mimetype": "text/x-python",
   "name": "python",
   "nbconvert_exporter": "python",
   "pygments_lexer": "ipython3",
   "version": "3.8.15"
  },
  "widgets": {
   "application/vnd.jupyter.widget-state+json": {
    "state": {
     "012a33f0c5194df292dd94907d0fb179": {
      "model_module": "@jupyter-widgets/controls",
      "model_module_version": "1.5.0",
      "model_name": "HBoxModel",
      "state": {
       "children": [
        "IPY_MODEL_53bf8a6f93914d199246a8ae9016a522",
        "IPY_MODEL_8db8b0c8198540a4b7e5bb27557a4a1e"
       ],
       "layout": "IPY_MODEL_f49e4ef1502d457ca89e3bd18be91df1"
      }
     },
     "09853508a2f8430d897786ba867fc7d5": {
      "model_module": "@jupyter-widgets/base",
      "model_module_version": "1.2.0",
      "model_name": "LayoutModel",
      "state": {}
     },
     "12fa0c7c4b3c4bfbb98f6efb0edf7816": {
      "model_module": "refinitiv-widgets",
      "model_module_version": "3.3.2",
      "model_name": "RefinitivSelectModel",
      "state": {
       "_is_opened": false,
       "_widget_selector": "[data-selector='12fa0c7c4b3c4bfbb98f6efb0edf7816']",
       "data": [
        {
         "items": [],
         "label": "Let Program Choose",
         "value": "Let Program Choose"
        },
        {
         "items": [],
         "label": "Bid",
         "value": "Bid"
        },
        {
         "items": [],
         "label": "Ask",
         "value": "Ask"
        }
       ],
       "layout": "IPY_MODEL_d15cf751c9714975b923b8e0a2d6ab1f",
       "max_height": 0,
       "max_width": 0,
       "placeholder": "Option Price Side?",
       "tooltip": "",
       "value": "Let Program Choose",
       "width": 300
      }
     },
     "1610897f769a4a50b5cbf3804e782836": {
      "model_module": "@jupyter-widgets/base",
      "model_module_version": "1.2.0",
      "model_name": "LayoutModel",
      "state": {}
     },
     "2724fa5776c14479bd1fe29122f07854": {
      "model_module": "@jupyter-widgets/base",
      "model_module_version": "1.2.0",
      "model_name": "LayoutModel",
      "state": {}
     },
     "2c0a6aaf72bd4cce82b8d054932fd295": {
      "model_module": "@jupyter-widgets/base",
      "model_module_version": "1.2.0",
      "model_name": "LayoutModel",
      "state": {}
     },
     "3194e4b35f83460da9f764d3116dff35": {
      "model_module": "@jupyter-widgets/base",
      "model_module_version": "1.2.0",
      "model_name": "LayoutModel",
      "state": {}
     },
     "34072fd086914ca3b76eaa21abc6d301": {
      "model_module": "@jupyter-widgets/base",
      "model_module_version": "1.2.0",
      "model_name": "LayoutModel",
      "state": {}
     },
     "3420c03e9e16482094233ccdffe7294a": {
      "model_module": "@jupyter-widgets/base",
      "model_module_version": "1.2.0",
      "model_name": "LayoutModel",
      "state": {}
     },
     "442f86602f9f4005ba2845d93817b90d": {
      "model_module": "@jupyter-widgets/controls",
      "model_module_version": "1.5.0",
      "model_name": "DescriptionStyleModel",
      "state": {
       "description_width": ""
      }
     },
     "47e9b0742a4743c9926c65f06d2e92d6": {
      "model_module": "@jupyter-widgets/output",
      "model_module_version": "1.0.0",
      "model_name": "OutputModel",
      "state": {
       "layout": "IPY_MODEL_3194e4b35f83460da9f764d3116dff35"
      }
     },
     "4bd388139565491299a668eb2500d9e3": {
      "model_module": "@jupyter-widgets/base",
      "model_module_version": "1.2.0",
      "model_name": "LayoutModel",
      "state": {}
     },
     "50e9a33ff7724d959e3f636ea9e20189": {
      "model_module": "@jupyter-widgets/base",
      "model_module_version": "1.2.0",
      "model_name": "LayoutModel",
      "state": {}
     },
     "53bf8a6f93914d199246a8ae9016a522": {
      "model_module": "refinitiv-widgets",
      "model_module_version": "3.3.2",
      "model_name": "RefinitivSelectModel",
      "state": {
       "_is_opened": false,
       "_widget_selector": "[data-selector='53bf8a6f93914d199246a8ae9016a522']",
       "data": [
        {
         "items": [],
         "label": "Call",
         "value": "Call"
        },
        {
         "items": [],
         "label": "Put",
         "value": "Put"
        }
       ],
       "layout": "IPY_MODEL_62a9ad64826545bdb7cbae02027fbaaf",
       "max_height": 0,
       "max_width": 0,
       "placeholder": "Call or Put?",
       "tooltip": "",
       "value": "Call",
       "width": 300
      }
     },
     "5b51acd310d4452d981c444e1d605ca1": {
      "model_module": "@jupyter-widgets/output",
      "model_module_version": "1.0.0",
      "model_name": "OutputModel",
      "state": {
       "layout": "IPY_MODEL_f0b89a333e3f4ee5a68991eb09047133"
      }
     },
     "5d95a4ee0b4047ab9669b2a34db14768": {
      "model_module": "@jupyter-widgets/output",
      "model_module_version": "1.0.0",
      "model_name": "OutputModel",
      "state": {
       "layout": "IPY_MODEL_4bd388139565491299a668eb2500d9e3"
      }
     },
     "62a9ad64826545bdb7cbae02027fbaaf": {
      "model_module": "@jupyter-widgets/base",
      "model_module_version": "1.2.0",
      "model_name": "LayoutModel",
      "state": {}
     },
     "83596a3589d54ac89d0c002ef78c11f1": {
      "model_module": "@jupyter-widgets/base",
      "model_module_version": "1.2.0",
      "model_name": "LayoutModel",
      "state": {}
     },
     "85854c960a0246a9b56a35c8a1117539": {
      "model_module": "@jupyter-widgets/controls",
      "model_module_version": "1.5.0",
      "model_name": "HBoxModel",
      "state": {
       "children": [
        "IPY_MODEL_b94c2b9325a84311914580731361ec56",
        "IPY_MODEL_12fa0c7c4b3c4bfbb98f6efb0edf7816"
       ],
       "layout": "IPY_MODEL_a72754eb3d804b58a91ffcd252af0c45"
      }
     },
     "896a0e5d2dbf4582a42bf5882cd51bda": {
      "model_module": "refinitiv-widgets",
      "model_module_version": "3.3.2",
      "model_name": "RefinitivTextFieldAutosuggestModel",
      "state": {
       "_detailed_value": {
        "id": "130604678805",
        "label": ".MIWO00000PUS",
        "p": {
         "IsChain": false,
         "OAPermID": "4295906344",
         "PermID": "130604678805",
         "RIC": ".MIWO00000PUS"
        },
        "s": ".MIWO00000PUS",
        "st": "RIC",
        "subtitle": "Equity Index",
        "title": "<b>MSCI</b> World Price Index USD",
        "vc": "INDX"
       },
       "_widget_selector": "[data-selector='896a0e5d2dbf4582a42bf5882cd51bda']",
       "filters": [
        "EQ",
        "INDX"
       ],
       "layout": "IPY_MODEL_ed9fd3fda9374360a6dd0de2a13e8a20",
       "placeholder": "Equity Underlying",
       "profile": "",
       "query": "msci",
       "tooltip": "",
       "value": ".MIWO00000PUS"
      }
     },
     "8db8b0c8198540a4b7e5bb27557a4a1e": {
      "model_module": "refinitiv-widgets",
      "model_module_version": "3.3.2",
      "model_name": "RefinitivSelectModel",
      "state": {
       "_is_opened": false,
       "_widget_selector": "[data-selector='8db8b0c8198540a4b7e5bb27557a4a1e']",
       "data": [
        {
         "items": [],
         "label": "Buy",
         "value": "Buy"
        },
        {
         "items": [],
         "label": "Sell",
         "value": "Sell"
        }
       ],
       "layout": "IPY_MODEL_c00d985043224a96b79d523acde5b7be",
       "max_height": 0,
       "max_width": 0,
       "placeholder": "Buy or Sell?",
       "tooltip": "",
       "value": "Buy",
       "width": 300
      }
     },
     "a5ec1a4c2346403f96e9a5f3286789e8": {
      "model_module": "@jupyter-widgets/base",
      "model_module_version": "1.2.0",
      "model_name": "LayoutModel",
      "state": {}
     },
     "a5fb7215fbdb42c3a3c2c9ac80cdc345": {
      "model_module": "@jupyter-widgets/output",
      "model_module_version": "1.0.0",
      "model_name": "OutputModel",
      "state": {
       "layout": "IPY_MODEL_2724fa5776c14479bd1fe29122f07854"
      }
     },
     "a72754eb3d804b58a91ffcd252af0c45": {
      "model_module": "@jupyter-widgets/base",
      "model_module_version": "1.2.0",
      "model_name": "LayoutModel",
      "state": {}
     },
     "a96465fe2ab84caba6e3ee06008accea": {
      "model_module": "@jupyter-widgets/output",
      "model_module_version": "1.0.0",
      "model_name": "OutputModel",
      "state": {
       "layout": "IPY_MODEL_83596a3589d54ac89d0c002ef78c11f1",
       "outputs": [
        {
         "data": {
          "application/vnd.jupyter.widget-view+json": {
           "model_id": "b41d7fdc1ecd4cccae7324d31ae60992",
           "version_major": 2,
           "version_minor": 0
          },
          "text/plain": "Loader()"
         },
         "metadata": {},
         "output_type": "display_data"
        },
        {
         "name": "stdout",
         "output_type": "stream",
         "text": "eqty_choice.value: .MIWO00000PUS\ncalendar.value[0]: 2024-06-21\nc_p_choice.value: Call\nrsk_free_rate_prct_choice.value: USDCFCFCTSA3M=\nThis may take a few minutes...\nmaturity : 2024-06-21\noriginal strike: 3350.0\nstrike lookthough direction: o\n1st new_strike: 3350.0\n"
        },
        {
         "ename": "MyException",
         "evalue": "It's looking like there might not have been any trades for this option, .MIWO00000PUS on that date. You may want to check with: `rd.discovery.search(query = '.MIWO00000PUS', filter = \"SearchAllCategory eq 'Options'  and Periodicity eq 'Monthly' \", select = 'ExchangeCode', group_by = 'ExchangeCode')`",
         "output_type": "error",
         "traceback": [
          "\u001b[0;31m---------------------------------------------------------------------------\u001b[0m",
          "\u001b[0;31mMyException\u001b[0m                               Traceback (most recent call last)",
          "\u001b[0;32m/tmp/ipykernel_199/3630122726.py\u001b[0m in \u001b[0;36mclick_handler\u001b[0;34m(a)\u001b[0m\n\u001b[1;32m    254\u001b[0m                     \u001b[0moption_price_side_choice_val\u001b[0m \u001b[0;34m=\u001b[0m \u001b[0moption_price_side_choice\u001b[0m\u001b[0;34m.\u001b[0m\u001b[0mvalue\u001b[0m\u001b[0;34m\u001b[0m\u001b[0;34m\u001b[0m\u001b[0m\n\u001b[1;32m    255\u001b[0m \u001b[0;34m\u001b[0m\u001b[0m\n\u001b[0;32m--> 256\u001b[0;31m                 ipa_data = IPA_Equity_Vola_n_Greeeks(\n\u001b[0m\u001b[1;32m    257\u001b[0m                     \u001b[0mdebug\u001b[0m\u001b[0;34m=\u001b[0m\u001b[0mdebug\u001b[0m\u001b[0;34m,\u001b[0m\u001b[0;34m\u001b[0m\u001b[0;34m\u001b[0m\u001b[0m\n\u001b[1;32m    258\u001b[0m                     \u001b[0munderlying\u001b[0m\u001b[0;34m=\u001b[0m\u001b[0meqty_choice\u001b[0m\u001b[0;34m.\u001b[0m\u001b[0mvalue\u001b[0m\u001b[0;34m,\u001b[0m\u001b[0;34m\u001b[0m\u001b[0;34m\u001b[0m\u001b[0m\n",
          "\u001b[0;32m~/My Documents/CodeBook Examples/IPA/options_volatilities_n_greeks/equity/IPA_Equity_Vola_n_Greeks_Class_019.py\u001b[0m in \u001b[0;36minitiate\u001b[0;34m(self, direction)\u001b[0m\n\u001b[1;32m    547\u001b[0m             \u001b[0mprint\u001b[0m\u001b[0;34m(\u001b[0m\u001b[0;34mf\"original strike: {self.strike}\"\u001b[0m\u001b[0;34m)\u001b[0m\u001b[0;34m\u001b[0m\u001b[0;34m\u001b[0m\u001b[0m\n\u001b[1;32m    548\u001b[0m \u001b[0;34m\u001b[0m\u001b[0m\n\u001b[0;32m--> 549\u001b[0;31m         _undrlying_optn_ric, new_strike = get_options_RIC().get_option_ric_through_strike_range(\n\u001b[0m\u001b[1;32m    550\u001b[0m             \u001b[0masset\u001b[0m\u001b[0;34m=\u001b[0m\u001b[0mself\u001b[0m\u001b[0;34m.\u001b[0m\u001b[0munderlying\u001b[0m\u001b[0;34m,\u001b[0m\u001b[0;34m\u001b[0m\u001b[0;34m\u001b[0m\u001b[0m\n\u001b[1;32m    551\u001b[0m             \u001b[0mmaturity\u001b[0m\u001b[0;34m=\u001b[0m\u001b[0mself\u001b[0m\u001b[0;34m.\u001b[0m\u001b[0mmaturity\u001b[0m\u001b[0;34m,\u001b[0m\u001b[0;34m\u001b[0m\u001b[0;34m\u001b[0m\u001b[0m\n",
          "\u001b[0;32m~/My Documents/CodeBook Examples/IPA/options_volatilities_n_greeks/equity/IPA_Equity_Vola_n_Greeks_Class_019.py\u001b[0m in \u001b[0;36mget_option_ric_through_strike_range\u001b[0;34m(self, asset, maturity, strike, opt_type, rnge, rnge_interval, round_to_nearest, debug, direction)\u001b[0m\n\u001b[1;32m    400\u001b[0m             \u001b[0mprint\u001b[0m\u001b[0;34m(\u001b[0m\u001b[0;34mf\"1st new_strike: {new_strike}\"\u001b[0m\u001b[0;34m)\u001b[0m\u001b[0;34m\u001b[0m\u001b[0;34m\u001b[0m\u001b[0m\n\u001b[1;32m    401\u001b[0m \u001b[0;34m\u001b[0m\u001b[0m\n\u001b[0;32m--> 402\u001b[0;31m         optn_ric = self.get_option_ric(\n\u001b[0m\u001b[1;32m    403\u001b[0m             \u001b[0masset\u001b[0m\u001b[0;34m=\u001b[0m\u001b[0masset\u001b[0m\u001b[0;34m,\u001b[0m\u001b[0;34m\u001b[0m\u001b[0;34m\u001b[0m\u001b[0m\n\u001b[1;32m    404\u001b[0m             \u001b[0mmaturity\u001b[0m\u001b[0;34m=\u001b[0m\u001b[0mmaturity\u001b[0m\u001b[0;34m,\u001b[0m\u001b[0;34m\u001b[0m\u001b[0;34m\u001b[0m\u001b[0m\n",
          "\u001b[0;32m~/My Documents/CodeBook Examples/IPA/options_volatilities_n_greeks/equity/IPA_Equity_Vola_n_Greeks_Class_019.py\u001b[0m in \u001b[0;36mget_option_ric\u001b[0;34m(self, asset, maturity, strike, opt_type, debug, exchange_not_supported_message_count)\u001b[0m\n\u001b[1;32m    347\u001b[0m \u001b[0;34m\u001b[0m\u001b[0m\n\u001b[1;32m    348\u001b[0m         \u001b[0;31m# get exchanges codes where the option on the given asset is traded\u001b[0m\u001b[0;34m\u001b[0m\u001b[0;34m\u001b[0m\u001b[0;34m\u001b[0m\u001b[0m\n\u001b[0;32m--> 349\u001b[0;31m         \u001b[0mexchnage_codes\u001b[0m \u001b[0;34m=\u001b[0m \u001b[0mself\u001b[0m\u001b[0;34m.\u001b[0m\u001b[0m_get_exchange_code\u001b[0m\u001b[0;34m(\u001b[0m\u001b[0masset\u001b[0m\u001b[0;34m)\u001b[0m\u001b[0;34m\u001b[0m\u001b[0;34m\u001b[0m\u001b[0m\n\u001b[0m\u001b[1;32m    350\u001b[0m         \u001b[0;31m# get the list of (from all available and covered exchanges) valid rics and their prices\u001b[0m\u001b[0;34m\u001b[0m\u001b[0;34m\u001b[0m\u001b[0;34m\u001b[0m\u001b[0m\n\u001b[1;32m    351\u001b[0m         \u001b[0moptions_data\u001b[0m \u001b[0;34m=\u001b[0m \u001b[0;34m{\u001b[0m\u001b[0;34m}\u001b[0m\u001b[0;34m\u001b[0m\u001b[0;34m\u001b[0m\u001b[0m\n",
          "\u001b[0;32m~/My Documents/CodeBook Examples/IPA/options_volatilities_n_greeks/equity/IPA_Equity_Vola_n_Greeks_Class_019.py\u001b[0m in \u001b[0;36m_get_exchange_code\u001b[0;34m(self, asset)\u001b[0m\n\u001b[1;32m     64\u001b[0m \u001b[0;34m\u001b[0m\u001b[0m\n\u001b[1;32m     65\u001b[0m         \u001b[0;32mif\u001b[0m \u001b[0mlen\u001b[0m\u001b[0;34m(\u001b[0m\u001b[0mresponse\u001b[0m\u001b[0;34m)\u001b[0m \u001b[0;34m==\u001b[0m \u001b[0;36m0\u001b[0m\u001b[0;34m:\u001b[0m\u001b[0;34m\u001b[0m\u001b[0;34m\u001b[0m\u001b[0m\n\u001b[0;32m---> 66\u001b[0;31m             \u001b[0;32mraise\u001b[0m\u001b[0;34m(\u001b[0m\u001b[0mMyException\u001b[0m\u001b[0;34m(\u001b[0m\u001b[0mExceptionData\u001b[0m\u001b[0;34m(\u001b[0m\u001b[0;34mf\"It's looking like there might not have been any trades for this option, {asset} on that date. You may want to check with: `rd.discovery.search(query = '{asset}', filter = \\\"SearchAllCategory eq 'Options'  and Periodicity eq 'Monthly' \\\", select = 'ExchangeCode', group_by = 'ExchangeCode')`\"\u001b[0m\u001b[0;34m)\u001b[0m\u001b[0;34m)\u001b[0m\u001b[0;34m)\u001b[0m\u001b[0;34m\u001b[0m\u001b[0;34m\u001b[0m\u001b[0m\n\u001b[0m\u001b[1;32m     67\u001b[0m \u001b[0;34m\u001b[0m\u001b[0m\n\u001b[1;32m     68\u001b[0m         \u001b[0mexchanges\u001b[0m \u001b[0;34m=\u001b[0m \u001b[0mresponse\u001b[0m\u001b[0;34m.\u001b[0m\u001b[0mdrop_duplicates\u001b[0m\u001b[0;34m(\u001b[0m\u001b[0;34m)\u001b[0m\u001b[0;34m[\u001b[0m\u001b[0;34m\"ExchangeCode\"\u001b[0m\u001b[0;34m]\u001b[0m\u001b[0;34m.\u001b[0m\u001b[0mto_list\u001b[0m\u001b[0;34m(\u001b[0m\u001b[0;34m)\u001b[0m\u001b[0;34m\u001b[0m\u001b[0;34m\u001b[0m\u001b[0m\n",
          "\u001b[0;31mMyException\u001b[0m: It's looking like there might not have been any trades for this option, .MIWO00000PUS on that date. You may want to check with: `rd.discovery.search(query = '.MIWO00000PUS', filter = \"SearchAllCategory eq 'Options'  and Periodicity eq 'Monthly' \", select = 'ExchangeCode', group_by = 'ExchangeCode')`"
         ]
        }
       ]
      }
     },
     "b1af8c0fdc184b3fa62160d2d238ac62": {
      "model_module": "refinitiv-widgets",
      "model_module_version": "3.3.2",
      "model_name": "RefinitivCalendarModel",
      "state": {
       "_widget_selector": "[data-selector='b1af8c0fdc184b3fa62160d2d238ac62']",
       "first_day_of_week": 0,
       "layout": "IPY_MODEL_a5ec1a4c2346403f96e9a5f3286789e8",
       "max": "2024-09-12",
       "min": "2023-11-17",
       "tooltip": "",
       "value": [
        "2024-06-21"
       ],
       "view": "2024-06",
       "width": 0
      }
     },
     "b41d7fdc1ecd4cccae7324d31ae60992": {
      "model_module": "refinitiv-widgets",
      "model_module_version": "3.3.2",
      "model_name": "RefinitivLoaderModel",
      "state": {
       "_widget_selector": "[data-selector='b41d7fdc1ecd4cccae7324d31ae60992']",
       "layout": "IPY_MODEL_c6daf15c7112489589d4e9057bfdbb14",
       "tooltip": null
      }
     },
     "b7cbb7e1ad2e43c5bf426f86c674a870": {
      "model_module": "@jupyter-widgets/base",
      "model_module_version": "1.2.0",
      "model_name": "LayoutModel",
      "state": {}
     },
     "b94c2b9325a84311914580731361ec56": {
      "model_module": "refinitiv-widgets",
      "model_module_version": "3.3.2",
      "model_name": "RefinitivSelectModel",
      "state": {
       "_is_opened": false,
       "_widget_selector": "[data-selector='b94c2b9325a84311914580731361ec56']",
       "data": [
        {
         "items": [],
         "label": "EUR",
         "value": "EUR"
        },
        {
         "items": [],
         "label": "USD",
         "value": "USD"
        },
        {
         "items": [],
         "label": "GBP",
         "value": "GBP"
        },
        {
         "items": [],
         "label": "JPY",
         "value": "JPY"
        }
       ],
       "layout": "IPY_MODEL_1610897f769a4a50b5cbf3804e782836",
       "max_height": 0,
       "max_width": 0,
       "placeholder": "Report Currency?",
       "tooltip": "",
       "value": "USD",
       "width": 300
      }
     },
     "c00d985043224a96b79d523acde5b7be": {
      "model_module": "@jupyter-widgets/base",
      "model_module_version": "1.2.0",
      "model_name": "LayoutModel",
      "state": {}
     },
     "c5dd78f4a29743c0b5a8b7d8f519101d": {
      "model_module": "@jupyter-widgets/output",
      "model_module_version": "1.0.0",
      "model_name": "OutputModel",
      "state": {
       "layout": "IPY_MODEL_b7cbb7e1ad2e43c5bf426f86c674a870"
      }
     },
     "c6daf15c7112489589d4e9057bfdbb14": {
      "model_module": "@jupyter-widgets/base",
      "model_module_version": "1.2.0",
      "model_name": "LayoutModel",
      "state": {}
     },
     "cd08d2848e2b4a108bd734cbe27397ec": {
      "model_module": "refinitiv-widgets",
      "model_module_version": "3.3.2",
      "model_name": "RefinitivButtonModel",
      "state": {
       "_widget_selector": "[data-selector='cd08d2848e2b4a108bd734cbe27397ec']",
       "background": "",
       "css": "",
       "height": 0,
       "hover_icon": "",
       "icon": "",
       "layout": "IPY_MODEL_50e9a33ff7724d959e3f636ea9e20189",
       "textpos": "",
       "tooltip": "",
       "value": "Create/Update Graph",
       "width": 0
      }
     },
     "d15cf751c9714975b923b8e0a2d6ab1f": {
      "model_module": "@jupyter-widgets/base",
      "model_module_version": "1.2.0",
      "model_name": "LayoutModel",
      "state": {}
     },
     "d656c810203b4f4296e4165e5670fb90": {
      "model_module": "@jupyter-widgets/base",
      "model_module_version": "1.2.0",
      "model_name": "LayoutModel",
      "state": {}
     },
     "db6f9517213d49078298d5c27480ff21": {
      "model_module": "refinitiv-widgets",
      "model_module_version": "3.3.2",
      "model_name": "RefinitivTextFieldAutosuggestModel",
      "state": {
       "_detailed_value": {
        "id": "47058875091",
        "label": "USDCFCFCTSA3M=",
        "p": {
         "PermID": "47058875091",
         "RIC": "USDCFCFCTSA3M=",
         "curveType": "I:5S",
         "entityTypeName": "Quote"
        },
        "s": "USDCFCFCTSA3M=",
        "st": "RIC",
        "subtitle": "FTSE - 3 Month",
        "title": "US Dollar 3 Month Cash Fallback CFCTSA",
        "vc": "FX"
       },
       "_widget_selector": "[data-selector='db6f9517213d49078298d5c27480ff21']",
       "filters": [
        "FX"
       ],
       "layout": "IPY_MODEL_2c0a6aaf72bd4cce82b8d054932fd295",
       "placeholder": "Risk Free Instrument RIC",
       "profile": "",
       "query": "USDCFCFCTSA3M",
       "tooltip": "",
       "value": "USDCFCFCTSA3M="
      }
     },
     "e3a19b284bd7443db3bfde0deececacc": {
      "model_module": "@jupyter-widgets/output",
      "model_module_version": "1.0.0",
      "model_name": "OutputModel",
      "state": {
       "layout": "IPY_MODEL_09853508a2f8430d897786ba867fc7d5"
      }
     },
     "ebe97d882f2e4e469d901754323e0c93": {
      "model_module": "@jupyter-widgets/output",
      "model_module_version": "1.0.0",
      "model_name": "OutputModel",
      "state": {
       "layout": "IPY_MODEL_d656c810203b4f4296e4165e5670fb90"
      }
     },
     "ecbb04c6235c4df7966627f1c15bbce4": {
      "model_module": "@jupyter-widgets/controls",
      "model_module_version": "1.5.0",
      "model_name": "DatePickerModel",
      "state": {
       "description": "Start date:",
       "disabled": false,
       "layout": "IPY_MODEL_34072fd086914ca3b76eaa21abc6d301",
       "style": "IPY_MODEL_442f86602f9f4005ba2845d93817b90d"
      }
     },
     "ed9fd3fda9374360a6dd0de2a13e8a20": {
      "model_module": "@jupyter-widgets/base",
      "model_module_version": "1.2.0",
      "model_name": "LayoutModel",
      "state": {}
     },
     "f0b89a333e3f4ee5a68991eb09047133": {
      "model_module": "@jupyter-widgets/base",
      "model_module_version": "1.2.0",
      "model_name": "LayoutModel",
      "state": {}
     },
     "f49e4ef1502d457ca89e3bd18be91df1": {
      "model_module": "@jupyter-widgets/base",
      "model_module_version": "1.2.0",
      "model_name": "LayoutModel",
      "state": {}
     },
     "fbd0bdc4b49549959e2b68026bed112e": {
      "model_module": "refinitiv-widgets",
      "model_module_version": "3.3.2",
      "model_name": "RefinitivSelectModel",
      "state": {
       "_is_opened": false,
       "_widget_selector": "[data-selector='fbd0bdc4b49549959e2b68026bed112e']",
       "data": [
        {
         "items": [],
         "label": "0",
         "value": "0"
        },
        {
         "items": [],
         "label": "1",
         "value": "1"
        },
        {
         "items": [],
         "label": "2",
         "value": "2"
        },
        {
         "items": [],
         "label": "3",
         "value": "3"
        },
        {
         "items": [],
         "label": "4",
         "value": "4"
        },
        {
         "items": [],
         "label": "5",
         "value": "5"
        },
        {
         "items": [],
         "label": "6",
         "value": "6"
        },
        {
         "items": [],
         "label": "7",
         "value": "7"
        },
        {
         "items": [],
         "label": "8",
         "value": "8"
        },
        {
         "items": [],
         "label": "9",
         "value": "9"
        },
        {
         "items": [],
         "label": "10",
         "value": "10"
        },
        {
         "items": [],
         "label": "11",
         "value": "11"
        },
        {
         "items": [],
         "label": "12",
         "value": "12"
        },
        {
         "items": [],
         "label": "13",
         "value": "13"
        },
        {
         "items": [],
         "label": "14",
         "value": "14"
        }
       ],
       "layout": "IPY_MODEL_3420c03e9e16482094233ccdffe7294a",
       "max_height": 0,
       "max_width": 0,
       "placeholder": "Smile Moneyness Range",
       "tooltip": "",
       "value": "10",
       "width": 300
      }
     }
    },
    "version_major": 2,
    "version_minor": 0
   }
  }
 },
 "nbformat": 4,
 "nbformat_minor": 4
}
