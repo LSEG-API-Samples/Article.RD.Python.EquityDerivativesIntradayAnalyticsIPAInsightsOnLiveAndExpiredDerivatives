{
 "cells": [
  {
   "cell_type": "markdown",
   "metadata": {
    "pycharm": {
     "name": "#%% md\n"
    }
   },
   "source": [
    "----\n",
    "<img src=\"refinitiv.svg\" class=\"rft-examples-logo\" width=\"20%\" style=\"vertical-align: top;\">\n",
    "\n",
    "# Data Library for Python\n",
    "\n",
    "----"
   ]
  },
  {
   "cell_type": "markdown",
   "metadata": {},
   "source": [
    "# Implied Volatility and Greeks of 'At The Money' Index Options, Live & Expired\n",
    "\n",
    "For all the details on the code below, please refer to the article \"[Equity Derivatives Intraday Analytics: using Python & IPA to gather intraday insights on live and expired derivatives\n",
    "](https://developers.lseg.com/en/article-catalog/article/equity-derivatives-intraday-analytics-p-1-using-python-to-gather-intraday-insights-on-live-and-expired-derivatives)\".\n",
    "\n",
    "\n",
    "This notebook demonstrates how to use the 'IPA_Equity_Vola_n_Greeks_Class.py' helper file. It, itself, uses the Refinitiv Data Library for Python to collect data and compute Greeks, Implied Volatilities and Smiles for Equity Options of all kinds; you can use this Notebook to access these functions and display results in a trader-friendly way.\n",
    "The Python Class from this helper file (i) automatically find the Option (of choice), live or expired, closest to [At The Money (ATM)](https://www.investopedia.com/terms/a/atthemoney.asp) and (ii) calculate its [Implied Volatility](https://www.investopedia.com/terms/i/iv.asp) & [Greeks](https://www.investopedia.com/terms/g/greeks.asp).\n",
    "We focus below on Future (Monthly) Options on the Index '.STOXX50E' (EURO STOXX 50 EUR PRICE INDEX) ('[EUREX](https://go.refinitiv.com/?u=Y3B1cmw6Ly9hcHBzLmNwLi9BcHBzL0luZGV4Lz9zPS5TVE9YWDUwJnN0PVJJQw%3D%3D&title=.STOXX50%20OV&key=bUq%2BNCiQGAcHQjSNEkJSlZLTgjo9cios8rz4heIBiU8%3D)') and '.SPX' ([S&P 500 INDEX](https://go.refinitiv.com/?u=Y3B1cmw6Ly9hcHBzLmNwLi9BcHBzL0luZGV4Lz9zPS5TUFgmc3Q9UklDIy8%3D&title=.SPX%20OV&key=21C0FJ4FZsZ4s9b6HR4mDSAIHId9rxFOgaCjslcqIVk%3D)), although you can apply the logic below for another index.\n",
    "To find the ATM instrument, we simply and efficiently use the [Search API](https://developers.refinitiv.com/en/article-catalog/article/building-search-into-your-application-workflow).\n",
    "Usually, the calculation of the Black-Scholes-Merton model's Implied Volatility involves numerical techniques, since it is not a [closed equation](https://en.wikipedia.org/wiki/Closed-form_expression) ([unless restricting assumptions that log returns follow a standard normal distribution with mean is zero, $\\mu$ = 0, and standard deviation is zero, $\\sigma$ = 1, are made](https://corporatefinanceinstitute.com/resources/derivatives/black-scholes-merton-model/)). If we used these techniques in calculating each Implied Volatility value on our computer, it would take several seconds - if not minutes - for each data point computed. I have chosen to use the [Instrument Pricing Analytics (IPA)](https://developers.refinitiv.com/en/api-catalog/refinitiv-data-platform/refinitiv-data-platform-apis/documentation#ipa-financial-contracts-option-contracts-eti) service in the Python [Refinitiv Data Library](https://developers.refinitiv.com/en/api-catalog/refinitiv-data-platform/refinitiv-data-libraries) instead, as this service allows me to send model specifications (and variables) and receive several (up to 100) computed Implied Volatility values in one go - in a few seconds. Not only does this save a great deal of time, but also many lines of code! Fianlly, we will put it all in one function.\n",
    "There are 3 layers in the Refinitiv Data Library: [Delivery](https://github.com/LSEG-API-Samples/Example.DataLibrary.Python/tree/main/Examples/3-Delivery), [Content](https://github.com/LSEG-API-Samples/Example.DataLibrary.Python/tree/main/Examples/2-Content) and [Access](https://github.com/LSEG-API-Samples/Example.DataLibrary.Python/tree/main/Examples/1-Access). This helper .py f demonstrates how to use the Definition object of the Delivery layer in conjunction with with the functions `get_data` and `get_history` and the Instrument Pricing Analytics (IPA) product.\n",
    "\n",
    "The Delivery layer provides a simplified data request interface for REST APIs, designed for FinCoders.\n",
    "\n",
    "#### IPA\n",
    "\n",
    "IPA (otherwise known as the Quantitative Analytics (QA) API Family) is a powerful product provided by LSEG through its Data Platform REST APIs and [Data Libraries](https://developers.lseg.com/en/api-catalog?x1=w_products&q1=devportal%3Aproducts%2Frefinitiv-data-libraries) that provides calculators for financial operations.\n",
    "\n",
    "#### Learn more\n",
    "\n",
    "To learn more about the Refinitiv Data Library for Python please join the Refinitiv Developer Community. By [registering](https://developers.refinitiv.com/iam/register) and [logging](https://developers.refinitiv.com/content/devportal/en_us/initCookie.html) into the Refinitiv Developer Community portal you will have free access to a number of learning materials like \n",
    " [Quick Start guides](https://developers.refinitiv.com/en/api-catalog/refinitiv-data-platform/refinitiv-data-library-for-python/quick-start), \n",
    " [Tutorials](https://developers.refinitiv.com/en/api-catalog/refinitiv-data-platform/refinitiv-data-library-for-python/tutorials), \n",
    " [Documentation](https://developers.refinitiv.com/en/api-catalog/refinitiv-data-platform/refinitiv-data-library-for-python/documentation)\n",
    " and much more.\n",
    "\n",
    " You may also visit the [API Playground](https://apidocs.refinitiv.com/Apps/ApiDocs) to get more examples, find  end points and download Swagger files\n",
    "\n",
    "#### Getting Help and Support\n",
    "\n",
    "If you have any questions regarding using the API, please post them on \n",
    "the [Refinitiv Data Q&A Forum](https://community.developers.refinitiv.com/spaces/321/index.html). \n",
    "The Refinitiv Developer Community will be happy to help. \n",
    "\n",
    "----\n"
   ]
  },
  {
   "cell_type": "code",
   "execution_count": 1,
   "metadata": {},
   "outputs": [],
   "source": [
    "from IPA_Equity_Vola_n_Greeks_Class_024 import IPA_Equity_Vola_n_Greeeks"
   ]
  },
  {
   "cell_type": "code",
   "execution_count": 2,
   "metadata": {
    "tags": []
   },
   "outputs": [],
   "source": [
    "%matplotlib inline\n",
    "from datetime import datetime, timedelta\n",
    "import plotly.graph_objects as go # `plotly` is a library used to render interactive graphs\n",
    "import IPython\n",
    "import ipywidgets as widgets\n",
    "from refinitiv_widgets import Select, MultiSelect, Button, TextFieldAutosuggest, Calendar, Select, Loader, TextField\n",
    "import copy\n",
    "import pandas as pd\n",
    "import numpy as np\n",
    "\n",
    "from dataclasses import dataclass\n",
    "\n",
    "@dataclass(frozen=True)\n",
    "class ExceptionData:\n",
    "    data: str\n",
    "\n",
    "class MyException(Exception):\n",
    "    def __init__(self, exception_details: ExceptionData):\n",
    "        self.details = exception_details\n",
    "    \n",
    "    def __str__(self):\n",
    "        return self.details.data\n",
    "\n",
    "\n",
    "def Eqty_ATM_Optn_Vola_n_Greeks(debug=False):\n",
    "\n",
    "    eqty_out = widgets.Output()\n",
    "    eqty_choice = TextFieldAutosuggest(placeholder='Equity Underlying', filters=['EQ', 'INDX'])\n",
    "    display(eqty_choice, eqty_out)  # This displays the box\n",
    "\n",
    "    c_p_select_out = widgets.Output()\n",
    "    c_p_choice = Select(\n",
    "        placeholder='Call or Put?', width=300.0)\n",
    "    c_p_choice.data = [\n",
    "        {'value': i, 'label': i, 'items': []}\n",
    "        for i in ['Call', 'Put']]\n",
    "    # display(c_p_choice, c_p_select_out) # If you want to display each choice box one above the other, you can use this line. I chose `HBox`s instead.\n",
    "\n",
    "    b_s_select_out = widgets.Output()\n",
    "    b_s_choice = Select(\n",
    "        placeholder='Buy or Sell?', width=300.0)\n",
    "    b_s_choice.data = [\n",
    "        {'value': i, 'label': i, 'items': []}\n",
    "        for i in ['Buy', 'Sell']]\n",
    "    # display(b_s_choice, b_s_select_out) # If you want to display each choice box one above the other, you can use this line. I chose `HBox`s instead.\n",
    "\n",
    "    # Display both choice boxes (`c_p_choice` & `b_s_choice`) horisontally, next to eachother.\n",
    "    display(widgets.HBox([c_p_choice, b_s_choice])) # This will display both choice boxes horisontally, next to eachother.\n",
    "\n",
    "    report_ccy_select_out = widgets.Output()\n",
    "    report_ccy_choice = Select(\n",
    "        placeholder='Report Currency?', width=300.0)\n",
    "    report_ccy_choice.data = [\n",
    "        {'value': i, 'label': i, 'items': []}\n",
    "        for i in ['EUR', 'USD', 'GBP', 'JPY']]\n",
    "    # display(report_ccy_choice, report_ccy_select_out) # If you want to display each choice box one above the other, you can use this line. I chose `HBox`s instead.\n",
    "    \n",
    "    option_price_side_select_out = widgets.Output()\n",
    "    option_price_side_choice = Select(\n",
    "        placeholder='Option Price Side?', width=300.0)\n",
    "    option_price_side_choice.data = [\n",
    "        {'value': i, 'label': i, 'items': []}\n",
    "        for i in ['Let Program Choose', 'Bid', 'Ask']]\n",
    "    # display(option_price_side_choice, option_price_side_select_out) # If you want to display each choice box one above the other, you can use this line. I chose `HBox`s instead.\n",
    "\n",
    "    # Display both choice boxes (`report_ccy_choice` & `option_price_side_choice`) horisontally, next to eachother.\n",
    "    display(widgets.HBox([report_ccy_choice, option_price_side_choice]))\n",
    "\n",
    "    print(\"\\n\")\n",
    "    print(\"Please enter the RIC of the reference Risk Free Rate, e.g.: for `.SPX`, go with `USDCFCFCTSA3M=`; for `.STOXX50E`, go with `EURIBOR3MD=`\")\n",
    "    rsk_free_rate_prct_out = widgets.Output()\n",
    "    rsk_free_rate_prct_choice = TextFieldAutosuggest(placeholder='Risk Free Instrument RIC', filters=['FX'])\n",
    "    display(rsk_free_rate_prct_choice, rsk_free_rate_prct_out)  # This displays the box\n",
    "\n",
    "\n",
    "    print(\"Maturity (note that most Options mature on the third Friday of the month):\")\n",
    "    calendar = Calendar(\n",
    "        max=(datetime.now() + timedelta(days=30*5)).strftime('%Y-%m-%d'),\n",
    "        min=(datetime.now() - timedelta(days=30*5)).strftime('%Y-%m-%d'))\n",
    "    display(calendar)\n",
    "\n",
    "\n",
    "    widgets.DatePicker(\n",
    "        description='Start date:', continuous_update=False, max=(datetime.now() + timedelta(days=30*5)).strftime('%Y-%m-%d'))\n",
    "\n",
    "    # create widgets\n",
    "    button = Button('Create/Update Graph')\n",
    "    button_output = widgets.Output()\n",
    "\n",
    "    loader = Loader(visible=False)\n",
    "    loader.visible = not loader.visible\n",
    "\n",
    "    # create click handler\n",
    "    def click_handler(a):\n",
    "        with button_output:\n",
    "            IPython.display.clear_output(wait=True)\n",
    "\n",
    "            display(loader)\n",
    "            \n",
    "            if c_p_choice.value == \"\" or eqty_choice.value == \"\" or rsk_free_rate_prct_choice.value == \"\" or calendar.value == []:\n",
    "                IPython.display.clear_output(wait=True)\n",
    "                raise ValueError(\"Please make sure to complete all fields before running the program.\")\n",
    "\n",
    "            else:\n",
    "\n",
    "                if debug:\n",
    "                    print(f\"eqty_choice.value: {eqty_choice.value}\")\n",
    "                    print(f\"calendar.value[0]: {calendar.value[0]}\")\n",
    "                    print(f\"c_p_choice.value: {c_p_choice.value}\")\n",
    "                    print(f\"rsk_free_rate_prct_choice.value: {rsk_free_rate_prct_choice.value}\")\n",
    "\n",
    "                print(\"This may take a few minutes...\")\n",
    "\n",
    "                # Above, we created an option for the `option_price_side_choice` to allow users to not choose a price side.\n",
    "                # In the if statement below, we translate this choice to one that the `IPA_Equity_Vola_n_Greeeks` funciton will understand.\n",
    "                if option_price_side_choice.value == \"Let Program Choose\":\n",
    "                    option_price_side_choice_val = None\n",
    "                else:\n",
    "                    option_price_side_choice_val = option_price_side_choice.value\n",
    "\n",
    "                ipa_data = IPA_Equity_Vola_n_Greeeks(\n",
    "                    debug=debug,\n",
    "                    underlying=eqty_choice.value,\n",
    "                    strike=None,\n",
    "                    maturity=calendar.value[0], # \"2024-03-15\", # calendar.value,\n",
    "                    maturity_format = '%Y-%m-%d', # e.g.: '%Y-%m-%d', '%Y-%m-%d %H:%M:%S' or '%Y-%m-%dT%H:%M:%SZ'\n",
    "                    option_type = c_p_choice.value,\n",
    "                    buy_sell = b_s_choice.value,\n",
    "                    curr = report_ccy_choice.value,\n",
    "                    exercise_style = 'EURO',\n",
    "                    option_price_side = option_price_side_choice_val,\n",
    "                    underlying_time_stamp = 'Close',\n",
    "                    resample = '10min',  # You can consider this the 'bucket' or 'candles' from which calculations will be made.\n",
    "                    rsk_free_rate_prct = rsk_free_rate_prct_choice.value, # for `\".SPX\"`, I go with `'USDCFCFCTSA3M='`; for `\".STOXX50E\"`, I go with `'EURIBOR3MD='`\n",
    "                    rsk_free_rate_prct_field = 'TR.FIXINGVALUE' # for `\".SPX\"`, I go with `'TR.FIXINGVALUE'`; for `\".STOXX50E\"`, I go with `'TR.FIXINGVALUE'` too.\n",
    "                    ).initiate().get_data()\n",
    "\n",
    "                sngl_fig, worked = ipa_data.graph(\n",
    "                    title=ipa_data.ipa_df_gmt_no_na.columns.name).fig, True\n",
    "\n",
    "                strikes_lst, undrlying_optn_ric_lst, df_gmt_lst, df_lst, fig_lst = ipa_data.cross_moneyness(\n",
    "                    smile_range=0) # We alter our Smile function for our use without smiles.\n",
    "\n",
    "                if debug:\n",
    "                    print(strikes_lst)\n",
    "                    display(fig_lst[0])\n",
    "                    display(fig_lst[-1])\n",
    "\n",
    "                volatility_result = pd.concat([i.Volatility for i in df_lst], axis=1, join=\"outer\")\n",
    "                volatility_result.columns = [str(int(i)) for i in strikes_lst]\n",
    "                volatility_result.index.name = \"ImpliedVolatilities\"\n",
    "                volatility_result\n",
    "\n",
    "                df = volatility_result.copy()\n",
    "                # Assuming df is your DataFrame and 'timestamp' is your time column\n",
    "                df['timestamp'] = df.index\n",
    "                df.timestamp = pd.to_datetime(df.timestamp)\n",
    "                df.set_index('timestamp', inplace=True)\n",
    "\n",
    "                # Resample to daily data and compute daily averages\n",
    "                daily_df = df.resample('7D').mean()\n",
    "\n",
    "                # Fill NA/NaN values using the specified method\n",
    "                daily_df_filled = daily_df.fillna(np.nan).astype(float).dropna()\n",
    "                daily_df_filled.index = [str(i) for i in daily_df_filled.index]\n",
    "                daily_df_filled = daily_df_filled.T\n",
    "\n",
    "                # Let's go back to the `sngl_fig` figure created above\n",
    "                if worked:\n",
    "                    IPython.display.clear_output(wait=True)\n",
    "                sngl_fig.show()\n",
    "\n",
    "    # refister click handler for button\n",
    "    print(\"\\n\")\n",
    "    button.on_click(click_handler)\n",
    "    display(button)\n",
    "\n",
    "    # display our widgets\n",
    "    display(button_output)\n"
   ]
  },
  {
   "cell_type": "code",
   "execution_count": 3,
   "metadata": {
    "tags": []
   },
   "outputs": [
    {
     "data": {
      "application/vnd.jupyter.widget-view+json": {
       "model_id": "3d9ff1023d39422f8de5dfbad16b1382",
       "version_major": 2,
       "version_minor": 0
      },
      "text/plain": [
       "TextFieldAutosuggest(value='', filters=['EQ', 'INDX'], placeholder='Equity Underlying', profile='', tooltip=''…"
      ]
     },
     "metadata": {},
     "output_type": "display_data"
    },
    {
     "data": {
      "application/vnd.jupyter.widget-view+json": {
       "model_id": "6a5bf615a8c1411298159f4064479a94",
       "version_major": 2,
       "version_minor": 0
      },
      "text/plain": [
       "Output()"
      ]
     },
     "metadata": {},
     "output_type": "display_data"
    },
    {
     "data": {
      "application/vnd.jupyter.widget-view+json": {
       "model_id": "9c2dc6e05f774bfcba37afa06c861c9f",
       "version_major": 2,
       "version_minor": 0
      },
      "text/plain": [
       "HBox(children=(Select(data=[{'value': 'Call', 'label': 'Call', 'items': []}, {'value': 'Put', 'label': 'Put', …"
      ]
     },
     "metadata": {},
     "output_type": "display_data"
    },
    {
     "data": {
      "application/vnd.jupyter.widget-view+json": {
       "model_id": "08624984c6b54780ba88ab06b0dd2d2e",
       "version_major": 2,
       "version_minor": 0
      },
      "text/plain": [
       "HBox(children=(Select(data=[{'value': 'EUR', 'label': 'EUR', 'items': []}, {'value': 'USD', 'label': 'USD', 'i…"
      ]
     },
     "metadata": {},
     "output_type": "display_data"
    },
    {
     "name": "stdout",
     "output_type": "stream",
     "text": [
      "\n",
      "\n",
      "Please enter the RIC of the reference Risk Free Rate, e.g.: for `.SPX`, go with `USDCFCFCTSA3M=`; for `.STOXX50E`, go with `EURIBOR3MD=`\n"
     ]
    },
    {
     "data": {
      "application/vnd.jupyter.widget-view+json": {
       "model_id": "58ceb90bd6d740ef998d9ee57fc7275d",
       "version_major": 2,
       "version_minor": 0
      },
      "text/plain": [
       "TextFieldAutosuggest(value='', filters=['FX'], placeholder='Risk Free Instrument RIC', profile='', tooltip='')"
      ]
     },
     "metadata": {},
     "output_type": "display_data"
    },
    {
     "data": {
      "application/vnd.jupyter.widget-view+json": {
       "model_id": "b8e6b5450bb24f389c9a30701de83249",
       "version_major": 2,
       "version_minor": 0
      },
      "text/plain": [
       "Output()"
      ]
     },
     "metadata": {},
     "output_type": "display_data"
    },
    {
     "name": "stdout",
     "output_type": "stream",
     "text": [
      "Maturity (note that most Options mature on the third Friday of the month):\n"
     ]
    },
    {
     "data": {
      "application/vnd.jupyter.widget-view+json": {
       "model_id": "5580af93dded47c7bb4927f56a1631e3",
       "version_major": 2,
       "version_minor": 0
      },
      "text/plain": [
       "Calendar(max='2024-10-26', min='2023-12-31', tooltip='', width=0.0)"
      ]
     },
     "metadata": {},
     "output_type": "display_data"
    },
    {
     "name": "stdout",
     "output_type": "stream",
     "text": [
      "\n",
      "\n"
     ]
    },
    {
     "data": {
      "application/vnd.jupyter.widget-view+json": {
       "model_id": "6b3c9f7b119d4ceb8e942106059a1b61",
       "version_major": 2,
       "version_minor": 0
      },
      "text/plain": [
       "Button(height=0.0, tooltip='', value='Create/Update Graph', width=0.0)"
      ]
     },
     "metadata": {},
     "output_type": "display_data"
    },
    {
     "data": {
      "application/vnd.jupyter.widget-view+json": {
       "model_id": "78fb6833eedd41909a82ff6e3d3c9375",
       "version_major": 2,
       "version_minor": 0
      },
      "text/plain": [
       "Output()"
      ]
     },
     "metadata": {},
     "output_type": "display_data"
    }
   ],
   "source": [
    "Eqty_ATM_Optn_Vola_n_Greeks(debug=False)"
   ]
  },
  {
   "cell_type": "code",
   "execution_count": null,
   "metadata": {},
   "outputs": [],
   "source": []
  }
 ],
 "metadata": {
  "kernelspec": {
   "display_name": "Python 3",
   "language": "python",
   "name": "python3"
  },
  "language_info": {
   "codemirror_mode": {
    "name": "ipython",
    "version": 3
   },
   "file_extension": ".py",
   "mimetype": "text/x-python",
   "name": "python",
   "nbconvert_exporter": "python",
   "pygments_lexer": "ipython3",
   "version": "3.8.15"
  },
  "widgets": {
   "application/vnd.jupyter.widget-state+json": {
    "state": {
     "08624984c6b54780ba88ab06b0dd2d2e": {
      "model_module": "@jupyter-widgets/controls",
      "model_module_version": "1.5.0",
      "model_name": "HBoxModel",
      "state": {
       "children": [
        "IPY_MODEL_e4592be05e1b4672ba919ac9c36da5c2",
        "IPY_MODEL_4f28619fbb724fd298bf5ce35163a2f6"
       ],
       "layout": "IPY_MODEL_712d0a6f5eff4f60b736d6172f83bde2"
      }
     },
     "0c46fe1618c943dcbc158c436ece1af2": {
      "model_module": "@jupyter-widgets/base",
      "model_module_version": "1.2.0",
      "model_name": "LayoutModel",
      "state": {}
     },
     "119dd7ff826b46d2a8792ff902363ed4": {
      "model_module": "@jupyter-widgets/base",
      "model_module_version": "1.2.0",
      "model_name": "LayoutModel",
      "state": {}
     },
     "1b148fdd5ec74359b97b3fd8a3be2573": {
      "model_module": "@jupyter-widgets/base",
      "model_module_version": "1.2.0",
      "model_name": "LayoutModel",
      "state": {}
     },
     "25283667706c408686d391e0c2ef9a95": {
      "model_module": "@jupyter-widgets/output",
      "model_module_version": "1.0.0",
      "model_name": "OutputModel",
      "state": {
       "layout": "IPY_MODEL_a255cc2f56b44f5b98f09f58f1568555"
      }
     },
     "255c8bbad37b4da29402bf6ac177d5fd": {
      "model_module": "@jupyter-widgets/base",
      "model_module_version": "1.2.0",
      "model_name": "LayoutModel",
      "state": {}
     },
     "392cb31cf83f4b74a6c98c690968f4a0": {
      "model_module": "@jupyter-widgets/output",
      "model_module_version": "1.0.0",
      "model_name": "OutputModel",
      "state": {
       "layout": "IPY_MODEL_6ecf06fcc5e34244a1634734b56c1ad6"
      }
     },
     "3d9ff1023d39422f8de5dfbad16b1382": {
      "model_module": "refinitiv-widgets",
      "model_module_version": "3.3.2",
      "model_name": "RefinitivTextFieldAutosuggestModel",
      "state": {
       "_detailed_value": {},
       "_widget_selector": "[data-selector='3d9ff1023d39422f8de5dfbad16b1382']",
       "filters": [
        "EQ",
        "INDX"
       ],
       "layout": "IPY_MODEL_255c8bbad37b4da29402bf6ac177d5fd",
       "placeholder": "Equity Underlying",
       "profile": "",
       "tooltip": ""
      }
     },
     "41b6a095bf0b40f69fbf271b8975231a": {
      "model_module": "@jupyter-widgets/output",
      "model_module_version": "1.0.0",
      "model_name": "OutputModel",
      "state": {
       "layout": "IPY_MODEL_78e00d6a79d6493ea74e124eb900f513"
      }
     },
     "4f28619fbb724fd298bf5ce35163a2f6": {
      "model_module": "refinitiv-widgets",
      "model_module_version": "3.3.2",
      "model_name": "RefinitivSelectModel",
      "state": {
       "_is_opened": false,
       "_widget_selector": "[data-selector='4f28619fbb724fd298bf5ce35163a2f6']",
       "data": [
        {
         "items": [],
         "label": "Let Program Choose",
         "value": "Let Program Choose"
        },
        {
         "items": [],
         "label": "Bid",
         "value": "Bid"
        },
        {
         "items": [],
         "label": "Ask",
         "value": "Ask"
        }
       ],
       "layout": "IPY_MODEL_119dd7ff826b46d2a8792ff902363ed4",
       "max_height": 0,
       "max_width": 0,
       "placeholder": "Option Price Side?",
       "tooltip": "",
       "width": 300
      }
     },
     "5580af93dded47c7bb4927f56a1631e3": {
      "model_module": "refinitiv-widgets",
      "model_module_version": "3.3.2",
      "model_name": "RefinitivCalendarModel",
      "state": {
       "_widget_selector": "[data-selector='5580af93dded47c7bb4927f56a1631e3']",
       "first_day_of_week": 0,
       "layout": "IPY_MODEL_76bfcaf3b09046e5a59bd12250d1308f",
       "max": "2024-10-26",
       "min": "2023-12-31",
       "tooltip": "",
       "view": "",
       "width": 0
      }
     },
     "5657dae68117480f9e60251c5758dc9f": {
      "model_module": "@jupyter-widgets/base",
      "model_module_version": "1.2.0",
      "model_name": "LayoutModel",
      "state": {}
     },
     "58ceb90bd6d740ef998d9ee57fc7275d": {
      "model_module": "refinitiv-widgets",
      "model_module_version": "3.3.2",
      "model_name": "RefinitivTextFieldAutosuggestModel",
      "state": {
       "_detailed_value": {},
       "_widget_selector": "[data-selector='58ceb90bd6d740ef998d9ee57fc7275d']",
       "filters": [
        "FX"
       ],
       "layout": "IPY_MODEL_5bfb1f8fa2e5483eb42be514790fd5a0",
       "placeholder": "Risk Free Instrument RIC",
       "profile": "",
       "tooltip": ""
      }
     },
     "5bfb1f8fa2e5483eb42be514790fd5a0": {
      "model_module": "@jupyter-widgets/base",
      "model_module_version": "1.2.0",
      "model_name": "LayoutModel",
      "state": {}
     },
     "664458243667425b8543333fe21fbee1": {
      "model_module": "@jupyter-widgets/base",
      "model_module_version": "1.2.0",
      "model_name": "LayoutModel",
      "state": {}
     },
     "67d3872b0fc549b58fdabf0fc7e11e08": {
      "model_module": "@jupyter-widgets/base",
      "model_module_version": "1.2.0",
      "model_name": "LayoutModel",
      "state": {}
     },
     "6a5bf615a8c1411298159f4064479a94": {
      "model_module": "@jupyter-widgets/output",
      "model_module_version": "1.0.0",
      "model_name": "OutputModel",
      "state": {
       "layout": "IPY_MODEL_1b148fdd5ec74359b97b3fd8a3be2573"
      }
     },
     "6b3c9f7b119d4ceb8e942106059a1b61": {
      "model_module": "refinitiv-widgets",
      "model_module_version": "3.3.2",
      "model_name": "RefinitivButtonModel",
      "state": {
       "_widget_selector": "[data-selector='6b3c9f7b119d4ceb8e942106059a1b61']",
       "background": "",
       "css": "",
       "height": 0,
       "hover_icon": "",
       "icon": "",
       "layout": "IPY_MODEL_d7f646f4364742a9ae8ac8161b6b1ff8",
       "textpos": "",
       "tooltip": "",
       "value": "Create/Update Graph",
       "width": 0
      }
     },
     "6ecf06fcc5e34244a1634734b56c1ad6": {
      "model_module": "@jupyter-widgets/base",
      "model_module_version": "1.2.0",
      "model_name": "LayoutModel",
      "state": {}
     },
     "712d0a6f5eff4f60b736d6172f83bde2": {
      "model_module": "@jupyter-widgets/base",
      "model_module_version": "1.2.0",
      "model_name": "LayoutModel",
      "state": {}
     },
     "76bfcaf3b09046e5a59bd12250d1308f": {
      "model_module": "@jupyter-widgets/base",
      "model_module_version": "1.2.0",
      "model_name": "LayoutModel",
      "state": {}
     },
     "78e00d6a79d6493ea74e124eb900f513": {
      "model_module": "@jupyter-widgets/base",
      "model_module_version": "1.2.0",
      "model_name": "LayoutModel",
      "state": {}
     },
     "78fb6833eedd41909a82ff6e3d3c9375": {
      "model_module": "@jupyter-widgets/output",
      "model_module_version": "1.0.0",
      "model_name": "OutputModel",
      "state": {
       "layout": "IPY_MODEL_0c46fe1618c943dcbc158c436ece1af2"
      }
     },
     "7c67c30d43104fda88794b08e84efcec": {
      "model_module": "@jupyter-widgets/base",
      "model_module_version": "1.2.0",
      "model_name": "LayoutModel",
      "state": {}
     },
     "80273366a8f04cd29e175ff55ba3c4bc": {
      "model_module": "@jupyter-widgets/output",
      "model_module_version": "1.0.0",
      "model_name": "OutputModel",
      "state": {
       "layout": "IPY_MODEL_d7a4bdba3403497f8f264f9830b37ae3"
      }
     },
     "8317c7586d614014be62546a4c506da0": {
      "model_module": "@jupyter-widgets/base",
      "model_module_version": "1.2.0",
      "model_name": "LayoutModel",
      "state": {}
     },
     "917b0c49e00f48a59017ce43706ad629": {
      "model_module": "refinitiv-widgets",
      "model_module_version": "3.3.2",
      "model_name": "RefinitivSelectModel",
      "state": {
       "_is_opened": false,
       "_widget_selector": "[data-selector='917b0c49e00f48a59017ce43706ad629']",
       "data": [
        {
         "items": [],
         "label": "Call",
         "value": "Call"
        },
        {
         "items": [],
         "label": "Put",
         "value": "Put"
        }
       ],
       "layout": "IPY_MODEL_c0ff9425c04441a09f008a5b5d1e99f8",
       "max_height": 0,
       "max_width": 0,
       "placeholder": "Call or Put?",
       "tooltip": "",
       "width": 300
      }
     },
     "9c2dc6e05f774bfcba37afa06c861c9f": {
      "model_module": "@jupyter-widgets/controls",
      "model_module_version": "1.5.0",
      "model_name": "HBoxModel",
      "state": {
       "children": [
        "IPY_MODEL_917b0c49e00f48a59017ce43706ad629",
        "IPY_MODEL_bb5eef1fcd554f9b9b09a201ee9a756b"
       ],
       "layout": "IPY_MODEL_7c67c30d43104fda88794b08e84efcec"
      }
     },
     "a255cc2f56b44f5b98f09f58f1568555": {
      "model_module": "@jupyter-widgets/base",
      "model_module_version": "1.2.0",
      "model_name": "LayoutModel",
      "state": {}
     },
     "a70cd92958fe40ad8bd1669dcbd7d96c": {
      "model_module": "@jupyter-widgets/controls",
      "model_module_version": "1.5.0",
      "model_name": "DatePickerModel",
      "state": {
       "description": "Start date:",
       "disabled": false,
       "layout": "IPY_MODEL_ecfc2d127b9c447088f8f72d24e34d0a",
       "style": "IPY_MODEL_e9009fb4c5964fd980790006b5d5385b"
      }
     },
     "b8e6b5450bb24f389c9a30701de83249": {
      "model_module": "@jupyter-widgets/output",
      "model_module_version": "1.0.0",
      "model_name": "OutputModel",
      "state": {
       "layout": "IPY_MODEL_5657dae68117480f9e60251c5758dc9f"
      }
     },
     "bb5eef1fcd554f9b9b09a201ee9a756b": {
      "model_module": "refinitiv-widgets",
      "model_module_version": "3.3.2",
      "model_name": "RefinitivSelectModel",
      "state": {
       "_is_opened": false,
       "_widget_selector": "[data-selector='bb5eef1fcd554f9b9b09a201ee9a756b']",
       "data": [
        {
         "items": [],
         "label": "Buy",
         "value": "Buy"
        },
        {
         "items": [],
         "label": "Sell",
         "value": "Sell"
        }
       ],
       "layout": "IPY_MODEL_8317c7586d614014be62546a4c506da0",
       "max_height": 0,
       "max_width": 0,
       "placeholder": "Buy or Sell?",
       "tooltip": "",
       "width": 300
      }
     },
     "c0ff9425c04441a09f008a5b5d1e99f8": {
      "model_module": "@jupyter-widgets/base",
      "model_module_version": "1.2.0",
      "model_name": "LayoutModel",
      "state": {}
     },
     "d7a4bdba3403497f8f264f9830b37ae3": {
      "model_module": "@jupyter-widgets/base",
      "model_module_version": "1.2.0",
      "model_name": "LayoutModel",
      "state": {}
     },
     "d7f646f4364742a9ae8ac8161b6b1ff8": {
      "model_module": "@jupyter-widgets/base",
      "model_module_version": "1.2.0",
      "model_name": "LayoutModel",
      "state": {}
     },
     "e4592be05e1b4672ba919ac9c36da5c2": {
      "model_module": "refinitiv-widgets",
      "model_module_version": "3.3.2",
      "model_name": "RefinitivSelectModel",
      "state": {
       "_is_opened": false,
       "_widget_selector": "[data-selector='e4592be05e1b4672ba919ac9c36da5c2']",
       "data": [
        {
         "items": [],
         "label": "EUR",
         "value": "EUR"
        },
        {
         "items": [],
         "label": "USD",
         "value": "USD"
        },
        {
         "items": [],
         "label": "GBP",
         "value": "GBP"
        },
        {
         "items": [],
         "label": "JPY",
         "value": "JPY"
        }
       ],
       "layout": "IPY_MODEL_67d3872b0fc549b58fdabf0fc7e11e08",
       "max_height": 0,
       "max_width": 0,
       "placeholder": "Report Currency?",
       "tooltip": "",
       "width": 300
      }
     },
     "e9009fb4c5964fd980790006b5d5385b": {
      "model_module": "@jupyter-widgets/controls",
      "model_module_version": "1.5.0",
      "model_name": "DescriptionStyleModel",
      "state": {
       "description_width": ""
      }
     },
     "ecfc2d127b9c447088f8f72d24e34d0a": {
      "model_module": "@jupyter-widgets/base",
      "model_module_version": "1.2.0",
      "model_name": "LayoutModel",
      "state": {}
     },
     "f5d47eb7c577492a89a3f48974c11669": {
      "model_module": "refinitiv-widgets",
      "model_module_version": "3.3.2",
      "model_name": "RefinitivLoaderModel",
      "state": {
       "_widget_selector": "[data-selector='f5d47eb7c577492a89a3f48974c11669']",
       "layout": "IPY_MODEL_664458243667425b8543333fe21fbee1",
       "tooltip": null
      }
     }
    },
    "version_major": 2,
    "version_minor": 0
   }
  }
 },
 "nbformat": 4,
 "nbformat_minor": 4
}
