{
 "cells": [
  {
   "cell_type": "markdown",
   "metadata": {},
   "source": [
    "# Equity Derivatives Intraday Analytics: using Python & IPA to gather intraday insights on live and expired derivatives\n",
    "\n",
    "For more information, don't hesitate to read the article [Equity Derivatives Intraday Analytics: using Python & IPA to gather intraday insights on live and expired derivatives](https://developers.lseg.com/en/article-catalog/article/equity-derivatives-intraday-analytics-p-1-using-python-to-gather-intraday-insights-on-live-and-expired-derivatives)"
   ]
  },
  {
   "cell_type": "code",
   "execution_count": 1,
   "metadata": {},
   "outputs": [],
   "source": [
    "from IPA_Equity_Vola_n_Greeks_Class_023 import IPA_Equity_Vola_n_Greeeks"
   ]
  },
  {
   "cell_type": "code",
   "execution_count": 2,
   "metadata": {
    "tags": []
   },
   "outputs": [],
   "source": [
    "%matplotlib inline\n",
    "from datetime import datetime, timedelta\n",
    "import plotly.graph_objects as go # `plotly` is a library used to render interactive graphs\n",
    "import IPython\n",
    "import ipywidgets as widgets\n",
    "from refinitiv_widgets import Select, MultiSelect, Button, TextFieldAutosuggest, Calendar, Select, Loader, TextField\n",
    "import copy\n",
    "import pandas as pd\n",
    "import numpy as np\n",
    "\n",
    "from dataclasses import dataclass\n",
    "\n",
    "@dataclass(frozen=True)\n",
    "class ExceptionData:\n",
    "    data: str\n",
    "\n",
    "class MyException(Exception):\n",
    "    def __init__(self, exception_details: ExceptionData):\n",
    "        self.details = exception_details\n",
    "    \n",
    "    def __str__(self):\n",
    "        return self.details.data\n",
    "\n",
    "\n",
    "\n",
    "def Eqty_ATM_Optn_Impli_Vol_Smile(debug=False):\n",
    "\n",
    "    eqty_out = widgets.Output()\n",
    "    eqty_choice = TextFieldAutosuggest(placeholder='Equity Underlying', filters=['EQ', 'INDX'])\n",
    "    display(eqty_choice, eqty_out)  # This displays the box\n",
    "\n",
    "    c_p_select_out = widgets.Output()\n",
    "    c_p_choice = Select(\n",
    "        placeholder='Call or Put?', width=300.0)\n",
    "    c_p_choice.data = [\n",
    "        {'value': i, 'label': i, 'items': []}\n",
    "        for i in ['Call', 'Put']]\n",
    "    # display(c_p_choice, c_p_select_out) # If you want to display each choice box one above the other, you can use this line. I chose `HBox`s instead.\n",
    "\n",
    "    b_s_select_out = widgets.Output()\n",
    "    b_s_choice = Select(\n",
    "        placeholder='Buy or Sell?', width=300.0)\n",
    "    b_s_choice.data = [\n",
    "        {'value': i, 'label': i, 'items': []}\n",
    "        for i in ['Buy', 'Sell']]\n",
    "    # display(b_s_choice, b_s_select_out) # If you want to display each choice box one above the other, you can use this line. I chose `HBox`s instead.\n",
    "\n",
    "    # Display both choice boxes (`c_p_choice` & `b_s_choice`) horisontally, next to eachother.\n",
    "    display(widgets.HBox([c_p_choice, b_s_choice])) # This will display both choice boxes horisontally, next to eachother.\n",
    "\n",
    "    report_ccy_select_out = widgets.Output()\n",
    "    report_ccy_choice = Select(\n",
    "        placeholder='Report Currency?', width=300.0)\n",
    "    report_ccy_choice.data = [\n",
    "        {'value': i, 'label': i, 'items': []}\n",
    "        for i in ['EUR', 'USD', 'GBP', 'JPY']]\n",
    "    # display(report_ccy_choice, report_ccy_select_out) # If you want to display each choice box one above the other, you can use this line. I chose `HBox`s instead.\n",
    "    \n",
    "    option_price_side_select_out = widgets.Output()\n",
    "    option_price_side_choice = Select(\n",
    "        placeholder='Option Price Side?', width=300.0)\n",
    "    option_price_side_choice.data = [\n",
    "        {'value': i, 'label': i, 'items': []}\n",
    "        for i in ['Let Program Choose', 'Bid', 'Ask']]\n",
    "    # display(option_price_side_choice, option_price_side_select_out) # If you want to display each choice box one above the other, you can use this line. I chose `HBox`s instead.\n",
    "\n",
    "    # Display both choice boxes (`report_ccy_choice` & `option_price_side_choice`) horisontally, next to eachother.\n",
    "    display(widgets.HBox([report_ccy_choice, option_price_side_choice]))\n",
    "\n",
    "    print(\"\\n\")\n",
    "    print(\"Please enter the RIC of the reference Risk Free Rate, e.g.: for `.SPX`, go with `USDCFCFCTSA3M=`; for `.STOXX50E`, go with `EURIBOR3MD=`\")\n",
    "    rsk_free_rate_prct_out = widgets.Output()\n",
    "    rsk_free_rate_prct_choice = TextFieldAutosuggest(placeholder='Risk Free Instrument RIC', filters=['FX'])\n",
    "    display(rsk_free_rate_prct_choice, rsk_free_rate_prct_out)  # This displays the box\n",
    "\n",
    "\n",
    "    smile_rnge_select_out = widgets.Output()\n",
    "    smile_rnge_choice = Select(\n",
    "        placeholder='Smile Moneyness Range', width=300.0)\n",
    "    smile_rnge_choice.data = [\n",
    "        {'value': str(i), 'label': str(i), 'items': []}\n",
    "        for i in range(5)]\n",
    "    display(smile_rnge_choice, smile_rnge_select_out)\n",
    "\n",
    "\n",
    "    print(\"Maturity (note that most Options mature on the third Friday of the month):\")\n",
    "    calendar = Calendar(\n",
    "        max=(datetime.now() + timedelta(days=30*5)).strftime('%Y-%m-%d'),\n",
    "        min=(datetime.now() - timedelta(days=30*5)).strftime('%Y-%m-%d'))\n",
    "    display(calendar)\n",
    "\n",
    "\n",
    "    widgets.DatePicker(\n",
    "        description='Start date:', continuous_update=False, max=(datetime.now() + timedelta(days=30*5)).strftime('%Y-%m-%d'))\n",
    "\n",
    "    # create widgets\n",
    "    button = Button('Create/Update Graph')\n",
    "    button_output = widgets.Output()\n",
    "\n",
    "    loader = Loader(visible=False)\n",
    "    loader.visible = not loader.visible\n",
    "\n",
    "    # create click handler\n",
    "    def click_handler(a):\n",
    "        with button_output:\n",
    "            IPython.display.clear_output(wait=True)\n",
    "\n",
    "            display(loader)\n",
    "            \n",
    "            if c_p_choice.value == \"\" or eqty_choice.value == \"\" or rsk_free_rate_prct_choice.value == \"\" or calendar.value == []:\n",
    "                IPython.display.clear_output(wait=True)\n",
    "                raise ValueError(\"Please make sure to complete all fields before running the program.\")\n",
    "\n",
    "            else:\n",
    "\n",
    "                if debug:\n",
    "                    print(f\"eqty_choice.value: {eqty_choice.value}\")\n",
    "                    print(f\"calendar.value[0]: {calendar.value[0]}\")\n",
    "                    print(f\"c_p_choice.value: {c_p_choice.value}\")\n",
    "                    print(f\"rsk_free_rate_prct_choice.value: {rsk_free_rate_prct_choice.value}\")\n",
    "\n",
    "                print(\"This may take a few minutes...\")\n",
    "\n",
    "                # Above, we created an option for the `option_price_side_choice` to allow users to not choose a price side.\n",
    "                # In the if statement below, we translate this choice to one that the `IPA_Equity_Vola_n_Greeeks` funciton will understand.\n",
    "                if option_price_side_choice.value == \"Let Program Choose\":\n",
    "                    option_price_side_choice_val = None\n",
    "                else:\n",
    "                    option_price_side_choice_val = option_price_side_choice.value\n",
    "\n",
    "                ipa_data = IPA_Equity_Vola_n_Greeeks(\n",
    "                    debug=debug,\n",
    "                    underlying=eqty_choice.value,\n",
    "                    strike=None,\n",
    "                    maturity=calendar.value[0], # \"2024-03-15\", # calendar.value,\n",
    "                    maturity_format = '%Y-%m-%d', # e.g.: '%Y-%m-%d', '%Y-%m-%d %H:%M:%S' or '%Y-%m-%dT%H:%M:%SZ'\n",
    "                    option_type = c_p_choice.value,\n",
    "                    buy_sell = b_s_choice.value,\n",
    "                    curr = report_ccy_choice.value,\n",
    "                    exercise_style = 'EURO',\n",
    "                    option_price_side = option_price_side_choice_val,\n",
    "                    underlying_time_stamp = 'Close',\n",
    "                    resample = '10min',  # You can consider this the 'bucket' or 'candles' from which calculations will be made.\n",
    "                    rsk_free_rate_prct = rsk_free_rate_prct_choice.value, # for `\".SPX\"`, I go with `'USDCFCFCTSA3M='`; for `\".STOXX50E\"`, I go with `'EURIBOR3MD='`\n",
    "                    rsk_free_rate_prct_field = 'TR.FIXINGVALUE' # for `\".SPX\"`, I go with `'TR.FIXINGVALUE'`; for `\".STOXX50E\"`, I go with `'TR.FIXINGVALUE'` too.\n",
    "                    ).initiate().get_data()\n",
    "                \n",
    "                sngl_fig, worked = ipa_data.graph(\n",
    "                    title=ipa_data.ipa_df_gmt_no_na.columns.name).fig, True\n",
    "\n",
    "                strikes_lst, undrlying_optn_ric_lst, df_gmt_lst, df_lst, fig_lst = ipa_data.cross_moneyness(\n",
    "                    smile_range=int(smile_rnge_choice.value))\n",
    "\n",
    "                if debug:\n",
    "                    print(strikes_lst)\n",
    "                    display(fig_lst[0])\n",
    "                    display(fig_lst[-1])\n",
    "\n",
    "                volatility_result = pd.concat([i.Volatility for i in df_lst], axis=1, join=\"outer\")\n",
    "                volatility_result.columns = [str(int(i)) for i in strikes_lst]\n",
    "                volatility_result.index.name = \"ImpliedVolatilities\"\n",
    "                volatility_result\n",
    "\n",
    "                df = volatility_result.copy()\n",
    "                # Assuming df is your DataFrame and 'timestamp' is your time column\n",
    "                df['timestamp'] = df.index\n",
    "                df.timestamp = pd.to_datetime(df.timestamp)\n",
    "                df.set_index('timestamp', inplace=True)\n",
    "\n",
    "                # Resample to daily data and compute daily averages\n",
    "                daily_df = df.resample('7D').mean()\n",
    "\n",
    "                # Fill NA/NaN values using the specified method\n",
    "                daily_df_filled = daily_df.fillna(np.nan).astype(float).dropna()\n",
    "                daily_df_filled.index = [str(i) for i in daily_df_filled.index]\n",
    "                daily_df_filled = daily_df_filled.T\n",
    "\n",
    "                # Let's go back to the `sngl_fig` figure created above\n",
    "                if worked:\n",
    "                    IPython.display.clear_output(wait=True)\n",
    "                sngl_fig.show()\n",
    "\n",
    "\n",
    "                # Now let's get back to our Smile figure:\n",
    "                smile_fig = go.Figure()\n",
    "\n",
    "                # Add traces (lines) for each column\n",
    "                for col in daily_df_filled.columns:\n",
    "                    smile_fig.add_trace(\n",
    "                        go.Scatter(\n",
    "                            x=daily_df_filled.index,\n",
    "                            y=daily_df_filled[col],\n",
    "                            mode='lines', name=col))\n",
    "\n",
    "                smile_fig.update_layout(\n",
    "                    title=\"Volatility Smiles\",\n",
    "                    template=\"plotly_dark\")\n",
    "\n",
    "                smile_fig.show()\n",
    "\n",
    "    # refister click handler for button\n",
    "    print(\"\\n\")\n",
    "    button.on_click(click_handler)\n",
    "    display(button)\n",
    "\n",
    "    # display our widgets\n",
    "    display(button_output)"
   ]
  },
  {
   "cell_type": "code",
   "execution_count": 3,
   "metadata": {
    "tags": []
   },
   "outputs": [
    {
     "data": {
      "application/vnd.jupyter.widget-view+json": {
       "model_id": "42f1098acedc4278b815e6a7a986e6c2",
       "version_major": 2,
       "version_minor": 0
      },
      "text/plain": [
       "TextFieldAutosuggest(value='', filters=['EQ', 'INDX'], placeholder='Equity Underlying', profile='', tooltip=''…"
      ]
     },
     "metadata": {},
     "output_type": "display_data"
    },
    {
     "data": {
      "application/vnd.jupyter.widget-view+json": {
       "model_id": "15d844280dd54c859c273128c93deb1b",
       "version_major": 2,
       "version_minor": 0
      },
      "text/plain": [
       "Output()"
      ]
     },
     "metadata": {},
     "output_type": "display_data"
    },
    {
     "data": {
      "application/vnd.jupyter.widget-view+json": {
       "model_id": "a64cc7cedd824cf6a08cf28ab1c96658",
       "version_major": 2,
       "version_minor": 0
      },
      "text/plain": [
       "HBox(children=(Select(data=[{'value': 'Call', 'label': 'Call', 'items': []}, {'value': 'Put', 'label': 'Put', …"
      ]
     },
     "metadata": {},
     "output_type": "display_data"
    },
    {
     "data": {
      "application/vnd.jupyter.widget-view+json": {
       "model_id": "d541af8684b949c1afd85b09b5773abe",
       "version_major": 2,
       "version_minor": 0
      },
      "text/plain": [
       "HBox(children=(Select(data=[{'value': 'EUR', 'label': 'EUR', 'items': []}, {'value': 'USD', 'label': 'USD', 'i…"
      ]
     },
     "metadata": {},
     "output_type": "display_data"
    },
    {
     "name": "stdout",
     "output_type": "stream",
     "text": [
      "\n",
      "\n",
      "Please enter the RIC of the reference Risk Free Rate, e.g.: for `.SPX`, go with `USDCFCFCTSA3M=`; for `.STOXX50E`, go with `EURIBOR3MD=`\n"
     ]
    },
    {
     "data": {
      "application/vnd.jupyter.widget-view+json": {
       "model_id": "cb5395d2803f41a48a3d347a8d0babcf",
       "version_major": 2,
       "version_minor": 0
      },
      "text/plain": [
       "TextFieldAutosuggest(value='', filters=['FX'], placeholder='Risk Free Instrument RIC', profile='', tooltip='')"
      ]
     },
     "metadata": {},
     "output_type": "display_data"
    },
    {
     "data": {
      "application/vnd.jupyter.widget-view+json": {
       "model_id": "0b096a134beb49b297f0a82d9ada55b8",
       "version_major": 2,
       "version_minor": 0
      },
      "text/plain": [
       "Output()"
      ]
     },
     "metadata": {},
     "output_type": "display_data"
    },
    {
     "data": {
      "application/vnd.jupyter.widget-view+json": {
       "model_id": "01ae716f76ea4fcfa8c6069f6bced3f8",
       "version_major": 2,
       "version_minor": 0
      },
      "text/plain": [
       "Select(data=[{'value': '0', 'label': '0', 'items': []}, {'value': '1', 'label': '1', 'items': []}, {'value': '…"
      ]
     },
     "metadata": {},
     "output_type": "display_data"
    },
    {
     "data": {
      "application/vnd.jupyter.widget-view+json": {
       "model_id": "1cc3d0bb961c4a198c0c0316d5ccfabd",
       "version_major": 2,
       "version_minor": 0
      },
      "text/plain": [
       "Output()"
      ]
     },
     "metadata": {},
     "output_type": "display_data"
    },
    {
     "name": "stdout",
     "output_type": "stream",
     "text": [
      "Maturity (note that most Options mature on the third Friday of the month):\n"
     ]
    },
    {
     "data": {
      "application/vnd.jupyter.widget-view+json": {
       "model_id": "17c5d723ddd744f499929e395d258240",
       "version_major": 2,
       "version_minor": 0
      },
      "text/plain": [
       "Calendar(max='2024-09-29', min='2023-12-04', tooltip='', width=0.0)"
      ]
     },
     "metadata": {},
     "output_type": "display_data"
    },
    {
     "name": "stdout",
     "output_type": "stream",
     "text": [
      "\n",
      "\n"
     ]
    },
    {
     "data": {
      "application/vnd.jupyter.widget-view+json": {
       "model_id": "d157104f6cae47758c1aab961fbe2012",
       "version_major": 2,
       "version_minor": 0
      },
      "text/plain": [
       "Button(height=0.0, tooltip='', value='Create/Update Graph', width=0.0)"
      ]
     },
     "metadata": {},
     "output_type": "display_data"
    },
    {
     "data": {
      "application/vnd.jupyter.widget-view+json": {
       "model_id": "463d8bd7bd3a404dbece8dc7b64370ac",
       "version_major": 2,
       "version_minor": 0
      },
      "text/plain": [
       "Output()"
      ]
     },
     "metadata": {},
     "output_type": "display_data"
    }
   ],
   "source": [
    "Eqty_ATM_Optn_Impli_Vol_Smile(debug=False)"
   ]
  },
  {
   "cell_type": "code",
   "execution_count": null,
   "metadata": {},
   "outputs": [],
   "source": []
  }
 ],
 "metadata": {
  "kernelspec": {
   "display_name": "Python 3",
   "language": "python",
   "name": "python3"
  },
  "language_info": {
   "codemirror_mode": {
    "name": "ipython",
    "version": 3
   },
   "file_extension": ".py",
   "mimetype": "text/x-python",
   "name": "python",
   "nbconvert_exporter": "python",
   "pygments_lexer": "ipython3",
   "version": "3.8.15"
  },
  "widgets": {
   "application/vnd.jupyter.widget-state+json": {
    "state": {},
    "version_major": 2,
    "version_minor": 0
   }
  }
 },
 "nbformat": 4,
 "nbformat_minor": 4
}
