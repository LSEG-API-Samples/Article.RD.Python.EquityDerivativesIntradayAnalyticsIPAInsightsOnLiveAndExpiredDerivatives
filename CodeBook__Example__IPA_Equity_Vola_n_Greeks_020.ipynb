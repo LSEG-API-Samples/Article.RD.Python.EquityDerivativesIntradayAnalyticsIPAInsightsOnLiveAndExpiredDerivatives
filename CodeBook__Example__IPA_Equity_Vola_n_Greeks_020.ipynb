{
 "cells": [
  {
   "cell_type": "code",
   "execution_count": 1,
   "metadata": {},
   "outputs": [],
   "source": [
    "from IPA_Equity_Vola_n_Greeks_Class_020 import IPA_Equity_Vola_n_Greeeks"
   ]
  },
  {
   "cell_type": "code",
   "execution_count": 2,
   "metadata": {},
   "outputs": [],
   "source": [
    "%matplotlib inline\n",
    "from datetime import datetime, timedelta\n",
    "import plotly.graph_objects as go # `plotly` is a library used to render interactive graphs\n",
    "import IPython\n",
    "import ipywidgets as widgets\n",
    "from refinitiv_widgets import Select, MultiSelect, Button, TextFieldAutosuggest, Calendar, Select, Loader, TextField\n",
    "import copy\n",
    "import pandas as pd\n",
    "import numpy as np\n",
    "\n",
    "from dataclasses import dataclass\n",
    "\n",
    "@dataclass(frozen=True)\n",
    "class ExceptionData:\n",
    "    data: str\n",
    "\n",
    "class MyException(Exception):\n",
    "    def __init__(self, exception_details: ExceptionData):\n",
    "        self.details = exception_details\n",
    "    \n",
    "    def __str__(self):\n",
    "        return self.details.data\n",
    "\n",
    "\n",
    "def Eqty_ATM_Optn_Vola_n_Greeks(debug=False):\n",
    "\n",
    "    eqty_out = widgets.Output()\n",
    "    eqty_choice = TextFieldAutosuggest(placeholder='Equity Underlying', filters=['EQ', 'INDX'])\n",
    "    display(eqty_choice, eqty_out)  # This displays the box\n",
    "\n",
    "    c_p_select_out = widgets.Output()\n",
    "    c_p_choice = Select(\n",
    "        placeholder='Call or Put?', width=300.0)\n",
    "    c_p_choice.data = [\n",
    "        {'value': i, 'label': i, 'items': []}\n",
    "        for i in ['Call', 'Put']]\n",
    "    # display(c_p_choice, c_p_select_out) # If you want to display each choice box one above the other, you can use this line. I chose `HBox`s instead.\n",
    "\n",
    "    b_s_select_out = widgets.Output()\n",
    "    b_s_choice = Select(\n",
    "        placeholder='Buy or Sell?', width=300.0)\n",
    "    b_s_choice.data = [\n",
    "        {'value': i, 'label': i, 'items': []}\n",
    "        for i in ['Buy', 'Sell']]\n",
    "    # display(b_s_choice, b_s_select_out) # If you want to display each choice box one above the other, you can use this line. I chose `HBox`s instead.\n",
    "\n",
    "    # Display both choice boxes (`c_p_choice` & `b_s_choice`) horisontally, next to eachother.\n",
    "    display(widgets.HBox([c_p_choice, b_s_choice])) # This will display both choice boxes horisontally, next to eachother.\n",
    "\n",
    "    report_ccy_select_out = widgets.Output()\n",
    "    report_ccy_choice = Select(\n",
    "        placeholder='Report Currency?', width=300.0)\n",
    "    report_ccy_choice.data = [\n",
    "        {'value': i, 'label': i, 'items': []}\n",
    "        for i in ['EUR', 'USD', 'GBP', 'JPY']]\n",
    "    # display(report_ccy_choice, report_ccy_select_out) # If you want to display each choice box one above the other, you can use this line. I chose `HBox`s instead.\n",
    "    \n",
    "    option_price_side_select_out = widgets.Output()\n",
    "    option_price_side_choice = Select(\n",
    "        placeholder='Option Price Side?', width=300.0)\n",
    "    option_price_side_choice.data = [\n",
    "        {'value': i, 'label': i, 'items': []}\n",
    "        for i in ['Bid', 'Ask']]\n",
    "    # display(option_price_side_choice, option_price_side_select_out) # If you want to display each choice box one above the other, you can use this line. I chose `HBox`s instead.\n",
    "\n",
    "    # Display both choice boxes (`report_ccy_choice` & `option_price_side_choice`) horisontally, next to eachother.\n",
    "    display(widgets.HBox([report_ccy_choice, option_price_side_choice]))\n",
    "\n",
    "    print(\"\\n\")\n",
    "    print(\"Please enter the RIC of the reference Risk Free Rate, e.g.: for `.SPX`, go with `USDCFCFCTSA3M=`; for `.STOXX50E`, go with `EURIBOR3MD=`\")\n",
    "    rsk_free_rate_prct_out = widgets.Output()\n",
    "    rsk_free_rate_prct_choice = TextFieldAutosuggest(placeholder='Risk Free Instrument RIC', filters=['FX'])\n",
    "    display(rsk_free_rate_prct_choice, rsk_free_rate_prct_out)  # This displays the box\n",
    "\n",
    "\n",
    "    print(\"Maturity:\")\n",
    "    calendar = Calendar(\n",
    "        max=(datetime.now() + timedelta(days=30*5)).strftime('%Y-%m-%d'),\n",
    "        min=(datetime.now() - timedelta(days=30*5)).strftime('%Y-%m-%d'))\n",
    "    display(calendar)\n",
    "\n",
    "\n",
    "    widgets.DatePicker(\n",
    "        description='Start date:', continuous_update=False, max=(datetime.now() + timedelta(days=30*5)).strftime('%Y-%m-%d'))\n",
    "\n",
    "    # create widgets\n",
    "    button = Button('Create/Update Graph')\n",
    "    button_output = widgets.Output()\n",
    "\n",
    "    loader = Loader(visible=False)\n",
    "    loader.visible = not loader.visible\n",
    "\n",
    "    # create click handler\n",
    "    def click_handler(a):\n",
    "        with button_output:\n",
    "            IPython.display.clear_output(wait=True)\n",
    "\n",
    "            display(loader)\n",
    "            \n",
    "            if c_p_choice.value == \"\" or eqty_choice.value == \"\" or rsk_free_rate_prct_choice.value == \"\" or calendar.value == []:\n",
    "                IPython.display.clear_output(wait=True)\n",
    "                raise ValueError(\"Please make sure to complete all fields before running the program.\")\n",
    "\n",
    "            else:\n",
    "\n",
    "                if debug:\n",
    "                    print(f\"eqty_choice.value: {eqty_choice.value}\")\n",
    "                    print(f\"calendar.value[0]: {calendar.value[0]}\")\n",
    "                    print(f\"c_p_choice.value: {c_p_choice.value}\")\n",
    "                    print(f\"rsk_free_rate_prct_choice.value: {rsk_free_rate_prct_choice.value}\")\n",
    "\n",
    "                print(\"This may take a few minutes...\")\n",
    "\n",
    "                ipa_data = IPA_Equity_Vola_n_Greeeks(\n",
    "                    debug=debug,\n",
    "                    underlying=eqty_choice.value,\n",
    "                    strike=None,\n",
    "                    maturity=calendar.value[0], # \"2024-03-15\", # calendar.value,\n",
    "                    maturity_format = '%Y-%m-%d', # e.g.: '%Y-%m-%d', '%Y-%m-%d %H:%M:%S' or '%Y-%m-%dT%H:%M:%SZ'\n",
    "                    option_type = c_p_choice.value,\n",
    "                    buy_sell = b_s_choice.value,\n",
    "                    curr = report_ccy_choice.value,\n",
    "                    exercise_style = 'EURO',\n",
    "                    option_price_side = option_price_side_choice.value,\n",
    "                    underlying_time_stamp = 'Close',\n",
    "                    resample = '10min',  # You can consider this the 'bucket' or 'candles' from which calculations will be made.\n",
    "                    rsk_free_rate_prct = rsk_free_rate_prct_choice.value, # for `\".SPX\"`, I go with `'USDCFCFCTSA3M='`; for `\".STOXX50E\"`, I go with `'EURIBOR3MD='`\n",
    "                    rsk_free_rate_prct_field = 'TR.FIXINGVALUE' # for `\".SPX\"`, I go with `'TR.FIXINGVALUE'`; for `\".STOXX50E\"`, I go with `'TR.FIXINGVALUE'` too.\n",
    "                    ).initiate().get_data()\n",
    "                \n",
    "                fig, worked = ipa_data.graph(\n",
    "                    title=ipa_data.ipa_df_gmt_no_na.columns.name).fig, True\n",
    "\n",
    "                if worked:\n",
    "                    IPython.display.clear_output(wait=True)\n",
    "\n",
    "                fig.show()\n",
    "                \n",
    "                strikes_lst, undrlying_optn_ric_lst, df_gmt_lst, df_lst, fig_lst = ipa_data.cross_moneyness(smile_range=8)\n",
    "\n",
    "    # refister click handler for button\n",
    "    print(\"\\n\")\n",
    "    button.on_click(click_handler)\n",
    "    display(button)\n",
    "\n",
    "    # display our widgets\n",
    "    display(button_output)\n",
    "\n",
    "\n",
    "\n",
    "def Eqty_ATM_Optn_Impli_Vol_Smile(debug=False):\n",
    "\n",
    "    eqty_out = widgets.Output()\n",
    "    eqty_choice = TextFieldAutosuggest(placeholder='Equity Underlying', filters=['EQ', 'INDX'])\n",
    "    display(eqty_choice, eqty_out)  # This displays the box\n",
    "\n",
    "    c_p_select_out = widgets.Output()\n",
    "    c_p_choice = Select(\n",
    "        placeholder='Call or Put?', width=300.0)\n",
    "    c_p_choice.data = [\n",
    "        {'value': i, 'label': i, 'items': []}\n",
    "        for i in ['Call', 'Put']]\n",
    "    # display(c_p_choice, c_p_select_out) # If you want to display each choice box one above the other, you can use this line. I chose `HBox`s instead.\n",
    "\n",
    "    b_s_select_out = widgets.Output()\n",
    "    b_s_choice = Select(\n",
    "        placeholder='Buy or Sell?', width=300.0)\n",
    "    b_s_choice.data = [\n",
    "        {'value': i, 'label': i, 'items': []}\n",
    "        for i in ['Buy', 'Sell']]\n",
    "    # display(b_s_choice, b_s_select_out) # If you want to display each choice box one above the other, you can use this line. I chose `HBox`s instead.\n",
    "\n",
    "    # Display both choice boxes (`c_p_choice` & `b_s_choice`) horisontally, next to eachother.\n",
    "    display(widgets.HBox([c_p_choice, b_s_choice])) # This will display both choice boxes horisontally, next to eachother.\n",
    "\n",
    "    report_ccy_select_out = widgets.Output()\n",
    "    report_ccy_choice = Select(\n",
    "        placeholder='Report Currency?', width=300.0)\n",
    "    report_ccy_choice.data = [\n",
    "        {'value': i, 'label': i, 'items': []}\n",
    "        for i in ['EUR', 'USD', 'GBP', 'JPY']]\n",
    "    # display(report_ccy_choice, report_ccy_select_out) # If you want to display each choice box one above the other, you can use this line. I chose `HBox`s instead.\n",
    "    \n",
    "    option_price_side_select_out = widgets.Output()\n",
    "    option_price_side_choice = Select(\n",
    "        placeholder='Option Price Side?', width=300.0)\n",
    "    option_price_side_choice.data = [\n",
    "        {'value': i, 'label': i, 'items': []}\n",
    "        for i in ['Let Program Choose', 'Bid', 'Ask']]\n",
    "    # display(option_price_side_choice, option_price_side_select_out) # If you want to display each choice box one above the other, you can use this line. I chose `HBox`s instead.\n",
    "\n",
    "    # Display both choice boxes (`report_ccy_choice` & `option_price_side_choice`) horisontally, next to eachother.\n",
    "    display(widgets.HBox([report_ccy_choice, option_price_side_choice]))\n",
    "\n",
    "    print(\"\\n\")\n",
    "    print(\"Please enter the RIC of the reference Risk Free Rate, e.g.: for `.SPX`, go with `USDCFCFCTSA3M=`; for `.STOXX50E`, go with `EURIBOR3MD=`\")\n",
    "    rsk_free_rate_prct_out = widgets.Output()\n",
    "    rsk_free_rate_prct_choice = TextFieldAutosuggest(placeholder='Risk Free Instrument RIC', filters=['FX'])\n",
    "    display(rsk_free_rate_prct_choice, rsk_free_rate_prct_out)  # This displays the box\n",
    "\n",
    "\n",
    "    smile_rnge_select_out = widgets.Output()\n",
    "    smile_rnge_choice = Select(\n",
    "        placeholder='Smile Moneyness Range', width=300.0)\n",
    "    smile_rnge_choice.data = [\n",
    "        {'value': str(i), 'label': str(i), 'items': []}\n",
    "        for i in range(15)]\n",
    "    display(smile_rnge_choice, smile_rnge_select_out)\n",
    "\n",
    "\n",
    "    print(\"Maturity (note that most Options mature on the third Friday of the month):\")\n",
    "    calendar = Calendar(\n",
    "        max=(datetime.now() + timedelta(days=30*5)).strftime('%Y-%m-%d'),\n",
    "        min=(datetime.now() - timedelta(days=30*5)).strftime('%Y-%m-%d'))\n",
    "    display(calendar)\n",
    "\n",
    "\n",
    "    widgets.DatePicker(\n",
    "        description='Start date:', continuous_update=False, max=(datetime.now() + timedelta(days=30*5)).strftime('%Y-%m-%d'))\n",
    "\n",
    "    # create widgets\n",
    "    button = Button('Create/Update Graph')\n",
    "    button_output = widgets.Output()\n",
    "\n",
    "    loader = Loader(visible=False)\n",
    "    loader.visible = not loader.visible\n",
    "\n",
    "    # create click handler\n",
    "    def click_handler(a):\n",
    "        with button_output:\n",
    "            IPython.display.clear_output(wait=True)\n",
    "\n",
    "            display(loader)\n",
    "            \n",
    "            if c_p_choice.value == \"\" or eqty_choice.value == \"\" or rsk_free_rate_prct_choice.value == \"\" or calendar.value == []:\n",
    "                IPython.display.clear_output(wait=True)\n",
    "                raise ValueError(\"Please make sure to complete all fields before running the program.\")\n",
    "\n",
    "            else:\n",
    "\n",
    "                if debug:\n",
    "                    print(f\"eqty_choice.value: {eqty_choice.value}\")\n",
    "                    print(f\"calendar.value[0]: {calendar.value[0]}\")\n",
    "                    print(f\"c_p_choice.value: {c_p_choice.value}\")\n",
    "                    print(f\"rsk_free_rate_prct_choice.value: {rsk_free_rate_prct_choice.value}\")\n",
    "\n",
    "                print(\"This may take a few minutes...\")\n",
    "\n",
    "                # Above, we created an option for the `option_price_side_choice` to allow users to not choose a price side.\n",
    "                # In the if statement below, we translate this choice to one that the `IPA_Equity_Vola_n_Greeeks` funciton will understand.\n",
    "                if option_price_side_choice.value == \"Let Program Choose\":\n",
    "                    option_price_side_choice_val = None\n",
    "                else:\n",
    "                    option_price_side_choice_val = option_price_side_choice.value\n",
    "\n",
    "                ipa_data = IPA_Equity_Vola_n_Greeeks(\n",
    "                    debug=debug,\n",
    "                    underlying=eqty_choice.value,\n",
    "                    strike=None,\n",
    "                    maturity=calendar.value[0], # \"2024-03-15\", # calendar.value,\n",
    "                    maturity_format = '%Y-%m-%d', # e.g.: '%Y-%m-%d', '%Y-%m-%d %H:%M:%S' or '%Y-%m-%dT%H:%M:%SZ'\n",
    "                    option_type = c_p_choice.value,\n",
    "                    buy_sell = b_s_choice.value,\n",
    "                    curr = report_ccy_choice.value,\n",
    "                    exercise_style = 'EURO',\n",
    "                    option_price_side = option_price_side_choice_val,\n",
    "                    underlying_time_stamp = 'Close',\n",
    "                    resample = '10min',  # You can consider this the 'bucket' or 'candles' from which calculations will be made.\n",
    "                    rsk_free_rate_prct = rsk_free_rate_prct_choice.value, # for `\".SPX\"`, I go with `'USDCFCFCTSA3M='`; for `\".STOXX50E\"`, I go with `'EURIBOR3MD='`\n",
    "                    rsk_free_rate_prct_field = 'TR.FIXINGVALUE' # for `\".SPX\"`, I go with `'TR.FIXINGVALUE'`; for `\".STOXX50E\"`, I go with `'TR.FIXINGVALUE'` too.\n",
    "                    ).initiate().get_data()\n",
    "                \n",
    "                sngl_fig, worked = ipa_data.graph(\n",
    "                    title=ipa_data.ipa_df_gmt_no_na.columns.name).fig, True\n",
    "\n",
    "                strikes_lst, undrlying_optn_ric_lst, df_gmt_lst, df_lst, fig_lst = ipa_data.cross_moneyness(\n",
    "                    smile_range=int(smile_rnge_choice.value))\n",
    "\n",
    "                if debug:\n",
    "                    print(strikes_lst)\n",
    "                    display(fig_lst[0])\n",
    "                    display(fig_lst[-1])\n",
    "\n",
    "                volatility_result = pd.concat([i.Volatility for i in df_lst], axis=1, join=\"outer\")\n",
    "                volatility_result.columns = [str(int(i)) for i in strikes_lst]\n",
    "                volatility_result.index.name = \"ImpliedVolatilities\"\n",
    "                volatility_result\n",
    "\n",
    "                df = volatility_result.copy()\n",
    "                # Assuming df is your DataFrame and 'timestamp' is your time column\n",
    "                df['timestamp'] = df.index\n",
    "                df.timestamp = pd.to_datetime(df.timestamp)\n",
    "                df.set_index('timestamp', inplace=True)\n",
    "\n",
    "                # Resample to daily data and compute daily averages\n",
    "                daily_df = df.resample('7D').mean()\n",
    "\n",
    "                # Fill NA/NaN values using the specified method\n",
    "                daily_df_filled = daily_df.fillna(np.nan).astype(float).dropna()\n",
    "                daily_df_filled.index = [str(i) for i in daily_df_filled.index]\n",
    "                daily_df_filled = daily_df_filled.T\n",
    "\n",
    "                # Let's go back to the `sngl_fig` figure created above\n",
    "                if worked:\n",
    "                    IPython.display.clear_output(wait=True)\n",
    "                sngl_fig.show()\n",
    "\n",
    "\n",
    "                # Now let's get back to our Smile figure:\n",
    "                smile_fig = go.Figure()\n",
    "\n",
    "                # Add traces (lines) for each column\n",
    "                for col in daily_df_filled.columns:\n",
    "                    smile_fig.add_trace(\n",
    "                        go.Scatter(\n",
    "                            x=daily_df_filled.index,\n",
    "                            y=daily_df_filled[col],\n",
    "                            mode='lines', name=col))\n",
    "\n",
    "                smile_fig.update_layout(\n",
    "                    title=\"Volatility Smiles\",\n",
    "                    template=\"plotly_dark\")\n",
    "\n",
    "                smile_fig.show()\n",
    "\n",
    "    # refister click handler for button\n",
    "    print(\"\\n\")\n",
    "    button.on_click(click_handler)\n",
    "    display(button)\n",
    "\n",
    "    # display our widgets\n",
    "    display(button_output)"
   ]
  },
  {
   "cell_type": "code",
   "execution_count": 3,
   "metadata": {
    "tags": []
   },
   "outputs": [],
   "source": [
    "# Eqty_ATM_Optn_Vola_n_Greeks(debug=False)"
   ]
  },
  {
   "cell_type": "code",
   "execution_count": 4,
   "metadata": {
    "tags": []
   },
   "outputs": [
    {
     "data": {
      "application/vnd.jupyter.widget-view+json": {
       "model_id": "435aa267c0a044c7986caf8646aabc03",
       "version_major": 2,
       "version_minor": 0
      },
      "text/plain": [
       "TextFieldAutosuggest(value='', filters=['EQ', 'INDX'], placeholder='Equity Underlying', profile='', tooltip=''…"
      ]
     },
     "metadata": {},
     "output_type": "display_data"
    },
    {
     "data": {
      "application/vnd.jupyter.widget-view+json": {
       "model_id": "66eda88b8a434d48a06b1917ab9d13e8",
       "version_major": 2,
       "version_minor": 0
      },
      "text/plain": [
       "Output()"
      ]
     },
     "metadata": {},
     "output_type": "display_data"
    },
    {
     "data": {
      "application/vnd.jupyter.widget-view+json": {
       "model_id": "68939ccdcdb043f5a75c88395f8cba1f",
       "version_major": 2,
       "version_minor": 0
      },
      "text/plain": [
       "HBox(children=(Select(data=[{'value': 'Call', 'label': 'Call', 'items': []}, {'value': 'Put', 'label': 'Put', …"
      ]
     },
     "metadata": {},
     "output_type": "display_data"
    },
    {
     "data": {
      "application/vnd.jupyter.widget-view+json": {
       "model_id": "e8593b43044c4ba8911ae5157def974e",
       "version_major": 2,
       "version_minor": 0
      },
      "text/plain": [
       "HBox(children=(Select(data=[{'value': 'EUR', 'label': 'EUR', 'items': []}, {'value': 'USD', 'label': 'USD', 'i…"
      ]
     },
     "metadata": {},
     "output_type": "display_data"
    },
    {
     "name": "stdout",
     "output_type": "stream",
     "text": [
      "\n",
      "\n",
      "Please enter the RIC of the reference Risk Free Rate, e.g.: for `.SPX`, go with `USDCFCFCTSA3M=`; for `.STOXX50E`, go with `EURIBOR3MD=`\n"
     ]
    },
    {
     "data": {
      "application/vnd.jupyter.widget-view+json": {
       "model_id": "abc59b8b466f4a818fc7dd903869da10",
       "version_major": 2,
       "version_minor": 0
      },
      "text/plain": [
       "TextFieldAutosuggest(value='', filters=['FX'], placeholder='Risk Free Instrument RIC', profile='', tooltip='')"
      ]
     },
     "metadata": {},
     "output_type": "display_data"
    },
    {
     "data": {
      "application/vnd.jupyter.widget-view+json": {
       "model_id": "28093f19e1e14b96bc071e01c15b87e1",
       "version_major": 2,
       "version_minor": 0
      },
      "text/plain": [
       "Output()"
      ]
     },
     "metadata": {},
     "output_type": "display_data"
    },
    {
     "data": {
      "application/vnd.jupyter.widget-view+json": {
       "model_id": "74c65695b1d647179ba1d09ec584dfdf",
       "version_major": 2,
       "version_minor": 0
      },
      "text/plain": [
       "Select(data=[{'value': '0', 'label': '0', 'items': []}, {'value': '1', 'label': '1', 'items': []}, {'value': '…"
      ]
     },
     "metadata": {},
     "output_type": "display_data"
    },
    {
     "data": {
      "application/vnd.jupyter.widget-view+json": {
       "model_id": "428abc4b7d3646dc822c4d3341a99f6b",
       "version_major": 2,
       "version_minor": 0
      },
      "text/plain": [
       "Output()"
      ]
     },
     "metadata": {},
     "output_type": "display_data"
    },
    {
     "name": "stdout",
     "output_type": "stream",
     "text": [
      "Maturity (note that most Options mature on the third Friday of the month):\n"
     ]
    },
    {
     "data": {
      "application/vnd.jupyter.widget-view+json": {
       "model_id": "bb25781d6630470085fb89ad93155d4c",
       "version_major": 2,
       "version_minor": 0
      },
      "text/plain": [
       "Calendar(max='2024-09-13', min='2023-11-18', tooltip='', width=0.0)"
      ]
     },
     "metadata": {},
     "output_type": "display_data"
    },
    {
     "name": "stdout",
     "output_type": "stream",
     "text": [
      "\n",
      "\n"
     ]
    },
    {
     "data": {
      "application/vnd.jupyter.widget-view+json": {
       "model_id": "b5f76cf6f692464ba31d5eaaf6afd7df",
       "version_major": 2,
       "version_minor": 0
      },
      "text/plain": [
       "Button(height=0.0, tooltip='', value='Create/Update Graph', width=0.0)"
      ]
     },
     "metadata": {},
     "output_type": "display_data"
    },
    {
     "data": {
      "application/vnd.jupyter.widget-view+json": {
       "model_id": "e70e4583922f48519203fc63362fdacb",
       "version_major": 2,
       "version_minor": 0
      },
      "text/plain": [
       "Output()"
      ]
     },
     "metadata": {},
     "output_type": "display_data"
    }
   ],
   "source": [
    "Eqty_ATM_Optn_Impli_Vol_Smile(debug=True)"
   ]
  },
  {
   "cell_type": "code",
   "execution_count": null,
   "metadata": {},
   "outputs": [],
   "source": []
  },
  {
   "cell_type": "code",
   "execution_count": 19,
   "metadata": {},
   "outputs": [
    {
     "data": {
      "text/plain": [
       "1"
      ]
     },
     "execution_count": 19,
     "metadata": {},
     "output_type": "execute_result"
    }
   ],
   "source": [
    "import pandas as pd\n",
    "import numpy as np\n",
    "pdtest = pd.DataFrame(\n",
    "    columns = ['BID', 'ASK'],\n",
    "    index = [\"2023-10-23 07:00:00\",\n",
    "             \"2023-10-23 07:30:00\",\n",
    "             \"2023-10-23 08:00:00\",\n",
    "             \"2023-10-23 08:30:00\",\n",
    "             \"2023-10-23 09:00:00\",\n",
    "             \"2024-01-18 14:30:00\",\n",
    "             \"2024-01-18 15:00:00\",\n",
    "             \"2024-01-18 15:30:00\",\n",
    "             \"2024-01-18 16:00:00\",\n",
    "             \"2024-01-18 16:30:00\"],\n",
    "    data = [[6.95,7.6],\n",
    "            [6.65,7.3],\n",
    "            [6.95,7.6],\n",
    "            [7.0,7.65],\n",
    "            [6.85,7.5],\n",
    "            [10.7,10.95],\n",
    "            [10.55,10.8],\n",
    "            [10.45,10.65],\n",
    "            [10.15,11.15],\n",
    "            [10.15, 11.15]])\n",
    "np.amax(pdtest.groupby(pdtest.index).count().values)"
   ]
  },
  {
   "cell_type": "code",
   "execution_count": 16,
   "metadata": {},
   "outputs": [
    {
     "ename": "ValueError",
     "evalue": "The truth value of an array with more than one element is ambiguous. Use a.any() or a.all()",
     "output_type": "error",
     "traceback": [
      "\u001b[0;31m---------------------------------------------------------------------------\u001b[0m",
      "\u001b[0;31mValueError\u001b[0m                                Traceback (most recent call last)",
      "\u001b[0;32m/tmp/ipykernel_1204/3251827728.py\u001b[0m in \u001b[0;36m<module>\u001b[0;34m\u001b[0m\n\u001b[0;32m----> 1\u001b[0;31m \u001b[0mmax\u001b[0m\u001b[0;34m(\u001b[0m\u001b[0mpdtest\u001b[0m\u001b[0;34m.\u001b[0m\u001b[0mgroupby\u001b[0m\u001b[0;34m(\u001b[0m\u001b[0mpdtest\u001b[0m\u001b[0;34m.\u001b[0m\u001b[0mindex\u001b[0m\u001b[0;34m)\u001b[0m\u001b[0;34m.\u001b[0m\u001b[0mcount\u001b[0m\u001b[0;34m(\u001b[0m\u001b[0;34m)\u001b[0m\u001b[0;34m.\u001b[0m\u001b[0mvalues\u001b[0m\u001b[0;34m)\u001b[0m\u001b[0;34m[\u001b[0m\u001b[0;36m0\u001b[0m\u001b[0;34m]\u001b[0m\u001b[0;34m\u001b[0m\u001b[0;34m\u001b[0m\u001b[0m\n\u001b[0m",
      "\u001b[0;31mValueError\u001b[0m: The truth value of an array with more than one element is ambiguous. Use a.any() or a.all()"
     ]
    }
   ],
   "source": [
    "import pandas as pd\n",
    "import numpy as np\n",
    "pdtest = pd.DataFrame(\n",
    "    columns = ['BID', 'ASK'],\n",
    "    index = [\"2023-10-23 07:00:00\",\n",
    "             \"2023-10-23 07:30:00\",\n",
    "             \"2023-10-23 08:00:00\",\n",
    "             \"2023-10-23 08:30:00\",\n",
    "             \"2023-10-23 09:00:00\",\n",
    "             \"2024-01-18 14:30:00\",\n",
    "             \"2024-01-18 15:00:00\",\n",
    "             \"2024-01-18 15:30:00\",\n",
    "             \"2024-01-18 16:00:00\",\n",
    "             \"2024-01-18 16:30:00\"],\n",
    "    data = [[6.95,7.6],\n",
    "            [6.65,7.3],\n",
    "            [6.95,7.6],\n",
    "            [7.0,7.65],\n",
    "            [6.85,7.5],\n",
    "            [10.7,10.95],\n",
    "            [10.55,10.8],\n",
    "            [10.45,10.65],\n",
    "            [10.15,11.15],\n",
    "            [10.15, 11.15]])\n",
    "max(pdtest.groupby(pdtest.index).count().values)"
   ]
  },
  {
   "cell_type": "code",
   "execution_count": null,
   "metadata": {},
   "outputs": [],
   "source": []
  },
  {
   "cell_type": "code",
   "execution_count": 5,
   "metadata": {},
   "outputs": [
    {
     "data": {
      "text/plain": [
       "<refinitiv.data.session.Definition object at 0x7f4bc09ebbb0 {name='codebook'}>"
      ]
     },
     "execution_count": 5,
     "metadata": {},
     "output_type": "execute_result"
    }
   ],
   "source": [
    "import refinitiv.data as rd\n",
    "rd.open_session()"
   ]
  },
  {
   "cell_type": "code",
   "execution_count": 44,
   "metadata": {},
   "outputs": [
    {
     "data": {
      "text/html": [
       "<div>\n",
       "<style scoped>\n",
       "    .dataframe tbody tr th:only-of-type {\n",
       "        vertical-align: middle;\n",
       "    }\n",
       "\n",
       "    .dataframe tbody tr th {\n",
       "        vertical-align: top;\n",
       "    }\n",
       "\n",
       "    .dataframe thead th {\n",
       "        text-align: right;\n",
       "    }\n",
       "</style>\n",
       "<table border=\"1\" class=\"dataframe\">\n",
       "  <thead>\n",
       "    <tr style=\"text-align: right;\">\n",
       "      <th>BNPP500cA4.EX^A24</th>\n",
       "      <th>TRDPRC_1</th>\n",
       "      <th>SETTLE</th>\n",
       "      <th>BID</th>\n",
       "      <th>ASK</th>\n",
       "    </tr>\n",
       "    <tr>\n",
       "      <th>Timestamp</th>\n",
       "      <th></th>\n",
       "      <th></th>\n",
       "      <th></th>\n",
       "      <th></th>\n",
       "    </tr>\n",
       "  </thead>\n",
       "  <tbody>\n",
       "    <tr>\n",
       "      <th>2023-10-23 07:00:00</th>\n",
       "      <td>&lt;NA&gt;</td>\n",
       "      <td>&lt;NA&gt;</td>\n",
       "      <td>6.95</td>\n",
       "      <td>7.6</td>\n",
       "    </tr>\n",
       "    <tr>\n",
       "      <th>2023-10-23 07:30:00</th>\n",
       "      <td>&lt;NA&gt;</td>\n",
       "      <td>&lt;NA&gt;</td>\n",
       "      <td>6.65</td>\n",
       "      <td>7.3</td>\n",
       "    </tr>\n",
       "    <tr>\n",
       "      <th>2023-10-23 08:00:00</th>\n",
       "      <td>&lt;NA&gt;</td>\n",
       "      <td>&lt;NA&gt;</td>\n",
       "      <td>6.95</td>\n",
       "      <td>7.6</td>\n",
       "    </tr>\n",
       "    <tr>\n",
       "      <th>2023-10-23 08:30:00</th>\n",
       "      <td>&lt;NA&gt;</td>\n",
       "      <td>&lt;NA&gt;</td>\n",
       "      <td>7.0</td>\n",
       "      <td>7.65</td>\n",
       "    </tr>\n",
       "    <tr>\n",
       "      <th>2023-10-23 09:00:00</th>\n",
       "      <td>&lt;NA&gt;</td>\n",
       "      <td>&lt;NA&gt;</td>\n",
       "      <td>6.85</td>\n",
       "      <td>7.5</td>\n",
       "    </tr>\n",
       "    <tr>\n",
       "      <th>...</th>\n",
       "      <td>...</td>\n",
       "      <td>...</td>\n",
       "      <td>...</td>\n",
       "      <td>...</td>\n",
       "    </tr>\n",
       "    <tr>\n",
       "      <th>2024-01-18 14:30:00</th>\n",
       "      <td>&lt;NA&gt;</td>\n",
       "      <td>&lt;NA&gt;</td>\n",
       "      <td>10.7</td>\n",
       "      <td>10.95</td>\n",
       "    </tr>\n",
       "    <tr>\n",
       "      <th>2024-01-18 15:00:00</th>\n",
       "      <td>&lt;NA&gt;</td>\n",
       "      <td>&lt;NA&gt;</td>\n",
       "      <td>10.55</td>\n",
       "      <td>10.8</td>\n",
       "    </tr>\n",
       "    <tr>\n",
       "      <th>2024-01-18 15:30:00</th>\n",
       "      <td>&lt;NA&gt;</td>\n",
       "      <td>&lt;NA&gt;</td>\n",
       "      <td>10.45</td>\n",
       "      <td>10.65</td>\n",
       "    </tr>\n",
       "    <tr>\n",
       "      <th>2024-01-18 16:00:00</th>\n",
       "      <td>&lt;NA&gt;</td>\n",
       "      <td>&lt;NA&gt;</td>\n",
       "      <td>10.15</td>\n",
       "      <td>11.15</td>\n",
       "    </tr>\n",
       "    <tr>\n",
       "      <th>2024-01-18 16:30:00</th>\n",
       "      <td>&lt;NA&gt;</td>\n",
       "      <td>&lt;NA&gt;</td>\n",
       "      <td>10.15</td>\n",
       "      <td>11.15</td>\n",
       "    </tr>\n",
       "  </tbody>\n",
       "</table>\n",
       "<p>1097 rows × 4 columns</p>\n",
       "</div>"
      ],
      "text/plain": [
       "BNPP500cA4.EX^A24    TRDPRC_1  SETTLE    BID    ASK\n",
       "Timestamp                                          \n",
       "2023-10-23 07:00:00      <NA>    <NA>   6.95    7.6\n",
       "2023-10-23 07:30:00      <NA>    <NA>   6.65    7.3\n",
       "2023-10-23 08:00:00      <NA>    <NA>   6.95    7.6\n",
       "2023-10-23 08:30:00      <NA>    <NA>    7.0   7.65\n",
       "2023-10-23 09:00:00      <NA>    <NA>   6.85    7.5\n",
       "...                       ...     ...    ...    ...\n",
       "2024-01-18 14:30:00      <NA>    <NA>   10.7  10.95\n",
       "2024-01-18 15:00:00      <NA>    <NA>  10.55   10.8\n",
       "2024-01-18 15:30:00      <NA>    <NA>  10.45  10.65\n",
       "2024-01-18 16:00:00      <NA>    <NA>  10.15  11.15\n",
       "2024-01-18 16:30:00      <NA>    <NA>  10.15  11.15\n",
       "\n",
       "[1097 rows x 4 columns]"
      ]
     },
     "execution_count": 44,
     "metadata": {},
     "output_type": "execute_result"
    }
   ],
   "source": [
    "optn_mrkt_pr_gmt = rd.content.historical_pricing.summaries.Definition(\n",
    "    universe='BNPP500cA4.EX^A24',\n",
    "    start='2021-08-02',\n",
    "    end='2024-01-19',\n",
    "    interval='PT30M',\n",
    "    fields=['TRDPRC_1', 'SETTLE', 'BID', 'ASK']).get_data().data.df\n",
    "optn_mrkt_pr_gmt"
   ]
  },
  {
   "cell_type": "code",
   "execution_count": 45,
   "metadata": {},
   "outputs": [
    {
     "data": {
      "text/plain": [
       "0"
      ]
     },
     "execution_count": 45,
     "metadata": {},
     "output_type": "execute_result"
    }
   ],
   "source": [
    "len(optn_mrkt_pr_gmt.TRDPRC_1.dropna())"
   ]
  },
  {
   "cell_type": "code",
   "execution_count": 47,
   "metadata": {},
   "outputs": [],
   "source": [
    "if 'TRDPRC_1' in optn_mrkt_pr_gmt.columns:\n",
    "    if len(optn_mrkt_pr_gmt.TRDPRC_1.dropna()) > 0:\n",
    "        optn_mrkt_pr_gmt = pd.DataFrame(\n",
    "            data={'TRDPRC_1': optn_mrkt_pr_gmt.TRDPRC_1}).dropna()\n",
    "elif 'SETTLE' in optn_mrkt_pr_gmt.columns:\n",
    "    if len(optn_mrkt_pr_gmt.SETTLE.dropna()) > 0:\n",
    "        optn_mrkt_pr_gmt = pd.DataFrame(\n",
    "            data={'SETTLE': optn_mrkt_pr_gmt.SETTLE}).dropna()\n",
    "elif 'BID' in optn_mrkt_pr_gmt.columns:\n",
    "    if len(optn_mrkt_pr_gmt.BID.dropna()) > 0:\n",
    "        optn_mrkt_pr_gmt = pd.DataFrame(\n",
    "            data={'BID': optn_mrkt_pr_gmt.BID}).dropna()\n",
    "optn_mrkt_pr_gmt.columns.name = \"BNPP500cA4.EX^A24\"\n",
    "\n",
    "optn_mrkt_pr_field = optn_mrkt_pr_gmt.columns[0]\n",
    "df_strt_dt = optn_mrkt_pr_gmt.index[0]"
   ]
  },
  {
   "cell_type": "code",
   "execution_count": 48,
   "metadata": {},
   "outputs": [
    {
     "data": {
      "text/plain": [
       "Timestamp('2023-10-23 07:00:00')"
      ]
     },
     "execution_count": 48,
     "metadata": {},
     "output_type": "execute_result"
    }
   ],
   "source": [
    "df_strt_dt"
   ]
  },
  {
   "cell_type": "code",
   "execution_count": 5,
   "metadata": {
    "tags": []
   },
   "outputs": [],
   "source": [
    "# ## For Testing:\n",
    "\n",
    "# # # # e.g. not supported `2222.SE`, `6758.T`, `6501.T`\n",
    "# # # # e.g. supported `.SPX`, `VOD.L`, `LSEG.L`\n",
    "\n",
    "# tst = IPA_Equity_Vola_n_Greeeks(\n",
    "#     debug=False,\n",
    "#     underlying=\".SPX\",\n",
    "#     # strike=9150,\n",
    "#     atm_range=40,\n",
    "#     atm_intervals=10,\n",
    "#     atm_round_to_nearest=10,\n",
    "#     atm_direction=None,\n",
    "#     maturity=\"2024-05-17\",\n",
    "#     maturity_format = '%Y-%m-%d', # e.g.: '%Y-%m-%d', '%Y-%m-%d %H:%M:%S' or '%Y-%m-%dT%H:%M:%SZ'\n",
    "#     option_type = \"Call\",\n",
    "#     buy_sell = \"buy\",\n",
    "#     curr = \"USD\",\n",
    "#     exercise_style = 'EURO',\n",
    "#     option_price_side = \"Bid\",\n",
    "#     underlying_time_stamp = 'Close',\n",
    "#     resample = '10min',  # You can consider this the 'bucket' or 'candles' from which calculations will be made.\n",
    "#     rsk_free_rate_prct = \"USDCFCFCTSA3M=\",\n",
    "#     rsk_free_rate_prct_field = 'TR.FIXINGVALUE', # for `\".SPX\"`, I go with `'TR.FIXINGVALUE'`; for `\".STOXX50E\"`, I go with `'TR.FIXINGVALUE'` too.\n",
    "#     # interval = rd.content.historical_pricing.Intervals.FIVE_MINUTES,\n",
    "#     corr=True\n",
    "#     ).initiate().get_data()\n",
    "# fig = tst.graph(\n",
    "#     title=tst.ipa_df_gmt_no_na.columns.name).fig\n",
    "# fig.show()"
   ]
  },
  {
   "cell_type": "code",
   "execution_count": 6,
   "metadata": {},
   "outputs": [],
   "source": [
    "# tst.strike"
   ]
  },
  {
   "cell_type": "code",
   "execution_count": 7,
   "metadata": {
    "tags": []
   },
   "outputs": [],
   "source": [
    "# strikes_lst, undrlying_optn_ric_lst, df_gmt_lst, df_lst, fig_lst = tst.cross_moneyness(smile_range=8)"
   ]
  },
  {
   "cell_type": "code",
   "execution_count": 8,
   "metadata": {},
   "outputs": [],
   "source": [
    "# strikes_lst"
   ]
  },
  {
   "cell_type": "code",
   "execution_count": 9,
   "metadata": {},
   "outputs": [],
   "source": [
    "# fig_lst[2]"
   ]
  },
  {
   "cell_type": "code",
   "execution_count": 10,
   "metadata": {
    "tags": []
   },
   "outputs": [],
   "source": [
    "# import pandas as pd\n",
    "# volatility_result = pd.concat([i.Volatility for i in df_lst], axis=1, join=\"outer\")\n",
    "# volatility_result.columns = [str(int(i)) for i in strikes_lst]\n",
    "# volatility_result.index.name = \"ImpliedVolatilities\"\n",
    "# volatility_result"
   ]
  },
  {
   "cell_type": "code",
   "execution_count": 11,
   "metadata": {},
   "outputs": [],
   "source": [
    "# # UnderlyingPrice_result = pd.concat([i.UnderlyingPrice for i in df_lst], axis=1, join=\"outer\")\n",
    "# # UnderlyingPrice_result.columns = [str(int(i)) for i in strikes_lst]\n",
    "# # UnderlyingPrice_result.index.name = \"UnderlyingPrice\"\n",
    "# \n",
    "# # df = UnderlyingPrice_result.copy()\n",
    "# \n",
    "# # # Assuming df is your DataFrame and 'timestamp' is your time column\n",
    "# # df['timestamp'] = df.index\n",
    "# # df.timestamp = pd.to_datetime(df.timestamp)\n",
    "# # df.set_index('timestamp', inplace=True)\n",
    "# \n",
    "# # # Resample to daily data and compute daily averages\n",
    "# # daily_df = df.resample('3D').mean()"
   ]
  },
  {
   "cell_type": "code",
   "execution_count": 12,
   "metadata": {},
   "outputs": [],
   "source": [
    "# df = volatility_result.copy()\n",
    "\n",
    "# # Assuming df is your DataFrame and 'timestamp' is your time column\n",
    "# df['timestamp'] = df.index\n",
    "# df.timestamp = pd.to_datetime(df.timestamp)\n",
    "# df.set_index('timestamp', inplace=True)\n",
    "\n",
    "# # Resample to daily data and compute daily averages\n",
    "# daily_df = df.resample('7D').mean()\n",
    "\n",
    "# daily_df"
   ]
  },
  {
   "cell_type": "code",
   "execution_count": 13,
   "metadata": {},
   "outputs": [],
   "source": [
    "# # Assuming df is your DataFrame\n",
    "# na_counts = daily_df.T.isna().sum()\n",
    "# column_with_fewest_na = na_counts.idxmin()\n",
    "# print(\"Implied Volatility Smile for .SPX Call Option Maturing on 2024-05-17 as of: \")\n",
    "# print(column_with_fewest_na)\n",
    "# daily_df.loc[column_with_fewest_na].plot()"
   ]
  },
  {
   "cell_type": "code",
   "execution_count": 14,
   "metadata": {},
   "outputs": [],
   "source": [
    "# import numpy as np\n",
    "# # `plotly` is a library used to render interactive graphs:\n",
    "# import plotly.offline as pyo\n",
    "# import plotly.graph_objects as go\n",
    "# import plotly.express as px  # This is just to see the implied vol graph when that field is available\n",
    "# import matplotlib.pyplot as plt  # We use `matplotlib` to just in case users do not have an environment suited to `plotly`.\n",
    "\n",
    "# # Fill NA/NaN values using the specified method\n",
    "# daily_df_filled = daily_df.fillna(np.nan).astype(float).dropna()\n",
    "# daily_df_filled.index = [str(i) for i in daily_df_filled.index]\n",
    "# daily_df_filled = daily_df_filled.T\n",
    "\n",
    "# fig = go.Figure()\n",
    "\n",
    "# # Add traces (lines) for each column\n",
    "# for col in daily_df_filled.columns:\n",
    "#     fig.add_trace(\n",
    "#         go.Scatter(\n",
    "#             x=daily_df_filled.index,\n",
    "#             y=daily_df_filled[col],\n",
    "#             mode='lines', name=col))\n",
    "\n",
    "# fig.show()"
   ]
  },
  {
   "cell_type": "code",
   "execution_count": 15,
   "metadata": {},
   "outputs": [
    {
     "data": {
      "text/plain": [
       "<refinitiv.data.session.Definition object at 0x7f9c8474ba60 {name='codebook'}>"
      ]
     },
     "execution_count": 15,
     "metadata": {},
     "output_type": "execute_result"
    }
   ],
   "source": [
    "import refinitiv.data as rd\n",
    "rd.open_session()"
   ]
  },
  {
   "cell_type": "code",
   "execution_count": 16,
   "metadata": {},
   "outputs": [],
   "source": [
    "optn_mrkt_pr_gmt = rd.content.historical_pricing.summaries.Definition(\n",
    "    universe=\"MSFT.O\",\n",
    "    start=\"2024-01-10\",\n",
    "    end=\"2024-01-17\",\n",
    "    # interval=self.data_retrieval_interval,\n",
    "    fields=['TRDPRC_1', 'SETTLE', 'Bid', 'ASK']\n",
    "    ).get_data().data.df"
   ]
  },
  {
   "cell_type": "code",
   "execution_count": 17,
   "metadata": {},
   "outputs": [
    {
     "data": {
      "text/html": [
       "<div>\n",
       "<style scoped>\n",
       "    .dataframe tbody tr th:only-of-type {\n",
       "        vertical-align: middle;\n",
       "    }\n",
       "\n",
       "    .dataframe tbody tr th {\n",
       "        vertical-align: top;\n",
       "    }\n",
       "\n",
       "    .dataframe thead th {\n",
       "        text-align: right;\n",
       "    }\n",
       "</style>\n",
       "<table border=\"1\" class=\"dataframe\">\n",
       "  <thead>\n",
       "    <tr style=\"text-align: right;\">\n",
       "      <th>MSFT.O</th>\n",
       "      <th>TRDPRC_1</th>\n",
       "      <th>SETTLE</th>\n",
       "      <th>Bid</th>\n",
       "      <th>ASK</th>\n",
       "    </tr>\n",
       "    <tr>\n",
       "      <th>Date</th>\n",
       "      <th></th>\n",
       "      <th></th>\n",
       "      <th></th>\n",
       "      <th></th>\n",
       "    </tr>\n",
       "  </thead>\n",
       "  <tbody>\n",
       "    <tr>\n",
       "      <th>2024-01-11</th>\n",
       "      <td>384.63</td>\n",
       "      <td>&lt;NA&gt;</td>\n",
       "      <td>&lt;NA&gt;</td>\n",
       "      <td>384.66</td>\n",
       "    </tr>\n",
       "    <tr>\n",
       "      <th>2024-01-12</th>\n",
       "      <td>388.47</td>\n",
       "      <td>&lt;NA&gt;</td>\n",
       "      <td>&lt;NA&gt;</td>\n",
       "      <td>388.45</td>\n",
       "    </tr>\n",
       "    <tr>\n",
       "      <th>2024-01-16</th>\n",
       "      <td>390.27</td>\n",
       "      <td>&lt;NA&gt;</td>\n",
       "      <td>&lt;NA&gt;</td>\n",
       "      <td>390.28</td>\n",
       "    </tr>\n",
       "    <tr>\n",
       "      <th>2024-01-17</th>\n",
       "      <td>389.47</td>\n",
       "      <td>&lt;NA&gt;</td>\n",
       "      <td>&lt;NA&gt;</td>\n",
       "      <td>389.53</td>\n",
       "    </tr>\n",
       "  </tbody>\n",
       "</table>\n",
       "</div>"
      ],
      "text/plain": [
       "MSFT.O      TRDPRC_1  SETTLE   Bid     ASK\n",
       "Date                                      \n",
       "2024-01-11    384.63    <NA>  <NA>  384.66\n",
       "2024-01-12    388.47    <NA>  <NA>  388.45\n",
       "2024-01-16    390.27    <NA>  <NA>  390.28\n",
       "2024-01-17    389.47    <NA>  <NA>  389.53"
      ]
     },
     "execution_count": 17,
     "metadata": {},
     "output_type": "execute_result"
    }
   ],
   "source": [
    "optn_mrkt_pr_gmt"
   ]
  },
  {
   "cell_type": "code",
   "execution_count": 18,
   "metadata": {},
   "outputs": [],
   "source": [
    "optn_mrkt_pr_gmt_cnt = optn_mrkt_pr_gmt.count()"
   ]
  },
  {
   "cell_type": "code",
   "execution_count": 19,
   "metadata": {},
   "outputs": [
    {
     "name": "stdout",
     "output_type": "stream",
     "text": [
      "2\n"
     ]
    }
   ],
   "source": [
    "if 'BID' in optn_mrkt_pr_gmt.columns:\n",
    "    print(\"1\")\n",
    "elif 'Bid' in optn_mrkt_pr_gmt.columns:\n",
    "    print(2)\n",
    "else:\n",
    "    print(3)"
   ]
  },
  {
   "cell_type": "code",
   "execution_count": 20,
   "metadata": {},
   "outputs": [
    {
     "data": {
      "text/html": [
       "<div>\n",
       "<style scoped>\n",
       "    .dataframe tbody tr th:only-of-type {\n",
       "        vertical-align: middle;\n",
       "    }\n",
       "\n",
       "    .dataframe tbody tr th {\n",
       "        vertical-align: top;\n",
       "    }\n",
       "\n",
       "    .dataframe thead th {\n",
       "        text-align: right;\n",
       "    }\n",
       "</style>\n",
       "<table border=\"1\" class=\"dataframe\">\n",
       "  <thead>\n",
       "    <tr style=\"text-align: right;\">\n",
       "      <th>.SPX</th>\n",
       "      <th>BID</th>\n",
       "      <th>ASK</th>\n",
       "      <th>TRDPRC_1</th>\n",
       "      <th>SETTLE</th>\n",
       "    </tr>\n",
       "    <tr>\n",
       "      <th>Timestamp</th>\n",
       "      <th></th>\n",
       "      <th></th>\n",
       "      <th></th>\n",
       "      <th></th>\n",
       "    </tr>\n",
       "  </thead>\n",
       "  <tbody>\n",
       "    <tr>\n",
       "      <th>2023-05-30 13:30:00</th>\n",
       "      <td>&lt;NA&gt;</td>\n",
       "      <td>&lt;NA&gt;</td>\n",
       "      <td>4217.66</td>\n",
       "      <td>&lt;NA&gt;</td>\n",
       "    </tr>\n",
       "    <tr>\n",
       "      <th>2023-05-30 14:00:00</th>\n",
       "      <td>&lt;NA&gt;</td>\n",
       "      <td>&lt;NA&gt;</td>\n",
       "      <td>4211.14</td>\n",
       "      <td>&lt;NA&gt;</td>\n",
       "    </tr>\n",
       "    <tr>\n",
       "      <th>2023-05-30 14:30:00</th>\n",
       "      <td>&lt;NA&gt;</td>\n",
       "      <td>&lt;NA&gt;</td>\n",
       "      <td>4211.29</td>\n",
       "      <td>&lt;NA&gt;</td>\n",
       "    </tr>\n",
       "    <tr>\n",
       "      <th>2023-05-30 15:00:00</th>\n",
       "      <td>&lt;NA&gt;</td>\n",
       "      <td>&lt;NA&gt;</td>\n",
       "      <td>4209.24</td>\n",
       "      <td>&lt;NA&gt;</td>\n",
       "    </tr>\n",
       "    <tr>\n",
       "      <th>2023-05-30 15:30:00</th>\n",
       "      <td>&lt;NA&gt;</td>\n",
       "      <td>&lt;NA&gt;</td>\n",
       "      <td>4211.67</td>\n",
       "      <td>&lt;NA&gt;</td>\n",
       "    </tr>\n",
       "    <tr>\n",
       "      <th>...</th>\n",
       "      <td>...</td>\n",
       "      <td>...</td>\n",
       "      <td>...</td>\n",
       "      <td>...</td>\n",
       "    </tr>\n",
       "    <tr>\n",
       "      <th>2023-11-16 19:00:00</th>\n",
       "      <td>&lt;NA&gt;</td>\n",
       "      <td>&lt;NA&gt;</td>\n",
       "      <td>4495.72</td>\n",
       "      <td>&lt;NA&gt;</td>\n",
       "    </tr>\n",
       "    <tr>\n",
       "      <th>2023-11-16 19:30:00</th>\n",
       "      <td>&lt;NA&gt;</td>\n",
       "      <td>&lt;NA&gt;</td>\n",
       "      <td>4501.93</td>\n",
       "      <td>&lt;NA&gt;</td>\n",
       "    </tr>\n",
       "    <tr>\n",
       "      <th>2023-11-16 20:00:00</th>\n",
       "      <td>&lt;NA&gt;</td>\n",
       "      <td>&lt;NA&gt;</td>\n",
       "      <td>4502.27</td>\n",
       "      <td>&lt;NA&gt;</td>\n",
       "    </tr>\n",
       "    <tr>\n",
       "      <th>2023-11-16 20:30:00</th>\n",
       "      <td>&lt;NA&gt;</td>\n",
       "      <td>&lt;NA&gt;</td>\n",
       "      <td>4508.43</td>\n",
       "      <td>&lt;NA&gt;</td>\n",
       "    </tr>\n",
       "    <tr>\n",
       "      <th>2023-11-16 21:00:00</th>\n",
       "      <td>&lt;NA&gt;</td>\n",
       "      <td>&lt;NA&gt;</td>\n",
       "      <td>4508.24</td>\n",
       "      <td>&lt;NA&gt;</td>\n",
       "    </tr>\n",
       "  </tbody>\n",
       "</table>\n",
       "<p>1793 rows × 4 columns</p>\n",
       "</div>"
      ],
      "text/plain": [
       ".SPX                  BID   ASK  TRDPRC_1  SETTLE\n",
       "Timestamp                                        \n",
       "2023-05-30 13:30:00  <NA>  <NA>   4217.66    <NA>\n",
       "2023-05-30 14:00:00  <NA>  <NA>   4211.14    <NA>\n",
       "2023-05-30 14:30:00  <NA>  <NA>   4211.29    <NA>\n",
       "2023-05-30 15:00:00  <NA>  <NA>   4209.24    <NA>\n",
       "2023-05-30 15:30:00  <NA>  <NA>   4211.67    <NA>\n",
       "...                   ...   ...       ...     ...\n",
       "2023-11-16 19:00:00  <NA>  <NA>   4495.72    <NA>\n",
       "2023-11-16 19:30:00  <NA>  <NA>   4501.93    <NA>\n",
       "2023-11-16 20:00:00  <NA>  <NA>   4502.27    <NA>\n",
       "2023-11-16 20:30:00  <NA>  <NA>   4508.43    <NA>\n",
       "2023-11-16 21:00:00  <NA>  <NA>   4508.24    <NA>\n",
       "\n",
       "[1793 rows x 4 columns]"
      ]
     },
     "execution_count": 20,
     "metadata": {},
     "output_type": "execute_result"
    }
   ],
   "source": [
    "rd.content.historical_pricing.summaries.Definition(\n",
    "    universe='.SPX', start='2023-05-29T07:00:00.000000', end='2023-11-16T21:30:00.000000', interval='PT30M',\n",
    "    fields=['BID', 'ASK', 'TRDPRC_1', 'SETTLE']).get_data().data.df"
   ]
  },
  {
   "cell_type": "code",
   "execution_count": null,
   "metadata": {},
   "outputs": [],
   "source": []
  }
 ],
 "metadata": {
  "kernelspec": {
   "display_name": "Python 3",
   "language": "python",
   "name": "python3"
  },
  "language_info": {
   "codemirror_mode": {
    "name": "ipython",
    "version": 3
   },
   "file_extension": ".py",
   "mimetype": "text/x-python",
   "name": "python",
   "nbconvert_exporter": "python",
   "pygments_lexer": "ipython3",
   "version": "3.8.15"
  },
  "widgets": {
   "application/vnd.jupyter.widget-state+json": {
    "state": {
     "0f12762943db47ac8770cbb4d0d6bc64": {
      "model_module": "@jupyter-widgets/base",
      "model_module_version": "1.2.0",
      "model_name": "LayoutModel",
      "state": {}
     },
     "222a49f9ff284a8497801d523b1ff744": {
      "model_module": "@jupyter-widgets/base",
      "model_module_version": "1.2.0",
      "model_name": "LayoutModel",
      "state": {}
     },
     "268a58605d994b1b8fe258929479dca6": {
      "model_module": "@jupyter-widgets/base",
      "model_module_version": "1.2.0",
      "model_name": "LayoutModel",
      "state": {}
     },
     "26ea38540ee6451080aad98910371894": {
      "model_module": "@jupyter-widgets/base",
      "model_module_version": "1.2.0",
      "model_name": "LayoutModel",
      "state": {}
     },
     "28093f19e1e14b96bc071e01c15b87e1": {
      "model_module": "@jupyter-widgets/output",
      "model_module_version": "1.0.0",
      "model_name": "OutputModel",
      "state": {
       "layout": "IPY_MODEL_2b7449cadde3412e8dbeabd7913822b2"
      }
     },
     "2b7449cadde3412e8dbeabd7913822b2": {
      "model_module": "@jupyter-widgets/base",
      "model_module_version": "1.2.0",
      "model_name": "LayoutModel",
      "state": {}
     },
     "2ccb99ef0c714fe0800e11ea0bc6bcaf": {
      "model_module": "@jupyter-widgets/base",
      "model_module_version": "1.2.0",
      "model_name": "LayoutModel",
      "state": {}
     },
     "3d5456e6f2c64258aaf37faea3e8afe2": {
      "model_module": "@jupyter-widgets/base",
      "model_module_version": "1.2.0",
      "model_name": "LayoutModel",
      "state": {}
     },
     "420127ae2af7405686e076884006061b": {
      "model_module": "@jupyter-widgets/base",
      "model_module_version": "1.2.0",
      "model_name": "LayoutModel",
      "state": {}
     },
     "428abc4b7d3646dc822c4d3341a99f6b": {
      "model_module": "@jupyter-widgets/output",
      "model_module_version": "1.0.0",
      "model_name": "OutputModel",
      "state": {
       "layout": "IPY_MODEL_eb5341a110f84ffa9cb32183c0e61a9b"
      }
     },
     "42e18be88bd641c58519029755c0c0a1": {
      "model_module": "@jupyter-widgets/base",
      "model_module_version": "1.2.0",
      "model_name": "LayoutModel",
      "state": {}
     },
     "435aa267c0a044c7986caf8646aabc03": {
      "model_module": "refinitiv-widgets",
      "model_module_version": "3.3.2",
      "model_name": "RefinitivTextFieldAutosuggestModel",
      "state": {
       "_detailed_value": {},
       "_widget_selector": "[data-selector='435aa267c0a044c7986caf8646aabc03']",
       "filters": [
        "EQ",
        "INDX"
       ],
       "layout": "IPY_MODEL_420127ae2af7405686e076884006061b",
       "placeholder": "Equity Underlying",
       "profile": "",
       "tooltip": ""
      }
     },
     "5defead4e9a9465998c71b664356178b": {
      "model_module": "refinitiv-widgets",
      "model_module_version": "3.3.2",
      "model_name": "RefinitivSelectModel",
      "state": {
       "_is_opened": false,
       "_widget_selector": "[data-selector='5defead4e9a9465998c71b664356178b']",
       "data": [
        {
         "items": [],
         "label": "Let Program Choose",
         "value": "Let Program Choose"
        },
        {
         "items": [],
         "label": "Bid",
         "value": "Bid"
        },
        {
         "items": [],
         "label": "Ask",
         "value": "Ask"
        }
       ],
       "layout": "IPY_MODEL_5e52c38cedf24f409836a19b87b8d689",
       "max_height": 0,
       "max_width": 0,
       "placeholder": "Option Price Side?",
       "tooltip": "",
       "width": 300
      }
     },
     "5e52c38cedf24f409836a19b87b8d689": {
      "model_module": "@jupyter-widgets/base",
      "model_module_version": "1.2.0",
      "model_name": "LayoutModel",
      "state": {}
     },
     "63f79d10a97c417cba859db69bd3b9d9": {
      "model_module": "@jupyter-widgets/output",
      "model_module_version": "1.0.0",
      "model_name": "OutputModel",
      "state": {
       "layout": "IPY_MODEL_e52bdc2129664bc488a7466096161bd6"
      }
     },
     "66eda88b8a434d48a06b1917ab9d13e8": {
      "model_module": "@jupyter-widgets/output",
      "model_module_version": "1.0.0",
      "model_name": "OutputModel",
      "state": {
       "layout": "IPY_MODEL_973d083f512e4f49b56abcfb3159fb33"
      }
     },
     "68939ccdcdb043f5a75c88395f8cba1f": {
      "model_module": "@jupyter-widgets/controls",
      "model_module_version": "1.5.0",
      "model_name": "HBoxModel",
      "state": {
       "children": [
        "IPY_MODEL_7d90535a24164a759f77163ef7f77a24",
        "IPY_MODEL_f24b6c5c41d84156ac8d6df14d8119fd"
       ],
       "layout": "IPY_MODEL_3d5456e6f2c64258aaf37faea3e8afe2"
      }
     },
     "6d0baf38fbb247ffb3c85d3e22655eeb": {
      "model_module": "@jupyter-widgets/base",
      "model_module_version": "1.2.0",
      "model_name": "LayoutModel",
      "state": {}
     },
     "70c282fca5884dae92a5b751436988cd": {
      "model_module": "@jupyter-widgets/output",
      "model_module_version": "1.0.0",
      "model_name": "OutputModel",
      "state": {
       "layout": "IPY_MODEL_c8ac2ca95ce0454b93a628e2547eac91"
      }
     },
     "74c65695b1d647179ba1d09ec584dfdf": {
      "model_module": "refinitiv-widgets",
      "model_module_version": "3.3.2",
      "model_name": "RefinitivSelectModel",
      "state": {
       "_is_opened": false,
       "_widget_selector": "[data-selector='74c65695b1d647179ba1d09ec584dfdf']",
       "data": [
        {
         "items": [],
         "label": "0",
         "value": "0"
        },
        {
         "items": [],
         "label": "1",
         "value": "1"
        },
        {
         "items": [],
         "label": "2",
         "value": "2"
        },
        {
         "items": [],
         "label": "3",
         "value": "3"
        },
        {
         "items": [],
         "label": "4",
         "value": "4"
        },
        {
         "items": [],
         "label": "5",
         "value": "5"
        },
        {
         "items": [],
         "label": "6",
         "value": "6"
        },
        {
         "items": [],
         "label": "7",
         "value": "7"
        },
        {
         "items": [],
         "label": "8",
         "value": "8"
        },
        {
         "items": [],
         "label": "9",
         "value": "9"
        },
        {
         "items": [],
         "label": "10",
         "value": "10"
        },
        {
         "items": [],
         "label": "11",
         "value": "11"
        },
        {
         "items": [],
         "label": "12",
         "value": "12"
        },
        {
         "items": [],
         "label": "13",
         "value": "13"
        },
        {
         "items": [],
         "label": "14",
         "value": "14"
        }
       ],
       "layout": "IPY_MODEL_e973a40be07444e29ad8bd3bcb6fc871",
       "max_height": 0,
       "max_width": 0,
       "placeholder": "Smile Moneyness Range",
       "tooltip": "",
       "width": 300
      }
     },
     "7d90535a24164a759f77163ef7f77a24": {
      "model_module": "refinitiv-widgets",
      "model_module_version": "3.3.2",
      "model_name": "RefinitivSelectModel",
      "state": {
       "_is_opened": false,
       "_widget_selector": "[data-selector='7d90535a24164a759f77163ef7f77a24']",
       "data": [
        {
         "items": [],
         "label": "Call",
         "value": "Call"
        },
        {
         "items": [],
         "label": "Put",
         "value": "Put"
        }
       ],
       "layout": "IPY_MODEL_2ccb99ef0c714fe0800e11ea0bc6bcaf",
       "max_height": 0,
       "max_width": 0,
       "placeholder": "Call or Put?",
       "tooltip": "",
       "width": 300
      }
     },
     "81353f0c781b4dc38245e0f5ad057d09": {
      "model_module": "@jupyter-widgets/base",
      "model_module_version": "1.2.0",
      "model_name": "LayoutModel",
      "state": {}
     },
     "8c07863afc364c16b7faf88f5ea1bc21": {
      "model_module": "@jupyter-widgets/base",
      "model_module_version": "1.2.0",
      "model_name": "LayoutModel",
      "state": {}
     },
     "9174a9312eda4369a84806c436a25c96": {
      "model_module": "@jupyter-widgets/base",
      "model_module_version": "1.2.0",
      "model_name": "LayoutModel",
      "state": {}
     },
     "94457799ec5f41e38f5b065729114026": {
      "model_module": "@jupyter-widgets/base",
      "model_module_version": "1.2.0",
      "model_name": "LayoutModel",
      "state": {}
     },
     "94b25c2597b34c49bc8309f7ad0d9281": {
      "model_module": "refinitiv-widgets",
      "model_module_version": "3.3.2",
      "model_name": "RefinitivLoaderModel",
      "state": {
       "_widget_selector": "[data-selector='94b25c2597b34c49bc8309f7ad0d9281']",
       "layout": "IPY_MODEL_8c07863afc364c16b7faf88f5ea1bc21",
       "tooltip": null
      }
     },
     "973d083f512e4f49b56abcfb3159fb33": {
      "model_module": "@jupyter-widgets/base",
      "model_module_version": "1.2.0",
      "model_name": "LayoutModel",
      "state": {}
     },
     "a3fc4f00defe40e7a505c0a2a76f7ce4": {
      "model_module": "@jupyter-widgets/output",
      "model_module_version": "1.0.0",
      "model_name": "OutputModel",
      "state": {
       "layout": "IPY_MODEL_42e18be88bd641c58519029755c0c0a1"
      }
     },
     "ab359f6b49e447c7873fd2797e698f0c": {
      "model_module": "@jupyter-widgets/base",
      "model_module_version": "1.2.0",
      "model_name": "LayoutModel",
      "state": {}
     },
     "abc59b8b466f4a818fc7dd903869da10": {
      "model_module": "refinitiv-widgets",
      "model_module_version": "3.3.2",
      "model_name": "RefinitivTextFieldAutosuggestModel",
      "state": {
       "_detailed_value": {},
       "_widget_selector": "[data-selector='abc59b8b466f4a818fc7dd903869da10']",
       "filters": [
        "FX"
       ],
       "layout": "IPY_MODEL_ab359f6b49e447c7873fd2797e698f0c",
       "placeholder": "Risk Free Instrument RIC",
       "profile": "",
       "tooltip": ""
      }
     },
     "b5f76cf6f692464ba31d5eaaf6afd7df": {
      "model_module": "refinitiv-widgets",
      "model_module_version": "3.3.2",
      "model_name": "RefinitivButtonModel",
      "state": {
       "_widget_selector": "[data-selector='b5f76cf6f692464ba31d5eaaf6afd7df']",
       "background": "",
       "css": "",
       "height": 0,
       "hover_icon": "",
       "icon": "",
       "layout": "IPY_MODEL_0f12762943db47ac8770cbb4d0d6bc64",
       "textpos": "",
       "tooltip": "",
       "value": "Create/Update Graph",
       "width": 0
      }
     },
     "b7d47d9b5f5e447e87f85d369e5cb6a3": {
      "model_module": "@jupyter-widgets/controls",
      "model_module_version": "1.5.0",
      "model_name": "DescriptionStyleModel",
      "state": {
       "description_width": ""
      }
     },
     "bb25781d6630470085fb89ad93155d4c": {
      "model_module": "refinitiv-widgets",
      "model_module_version": "3.3.2",
      "model_name": "RefinitivCalendarModel",
      "state": {
       "_widget_selector": "[data-selector='bb25781d6630470085fb89ad93155d4c']",
       "first_day_of_week": 0,
       "layout": "IPY_MODEL_222a49f9ff284a8497801d523b1ff744",
       "max": "2024-09-13",
       "min": "2023-11-18",
       "tooltip": "",
       "view": "",
       "width": 0
      }
     },
     "bef673c26aa540c89fd2651922ca4c8a": {
      "model_module": "refinitiv-widgets",
      "model_module_version": "3.3.2",
      "model_name": "RefinitivSelectModel",
      "state": {
       "_is_opened": false,
       "_widget_selector": "[data-selector='bef673c26aa540c89fd2651922ca4c8a']",
       "data": [
        {
         "items": [],
         "label": "EUR",
         "value": "EUR"
        },
        {
         "items": [],
         "label": "USD",
         "value": "USD"
        },
        {
         "items": [],
         "label": "GBP",
         "value": "GBP"
        },
        {
         "items": [],
         "label": "JPY",
         "value": "JPY"
        }
       ],
       "layout": "IPY_MODEL_268a58605d994b1b8fe258929479dca6",
       "max_height": 0,
       "max_width": 0,
       "placeholder": "Report Currency?",
       "tooltip": "",
       "width": 300
      }
     },
     "c8ac2ca95ce0454b93a628e2547eac91": {
      "model_module": "@jupyter-widgets/base",
      "model_module_version": "1.2.0",
      "model_name": "LayoutModel",
      "state": {}
     },
     "d3d1d40abd2e4760ab6a697dde0723d1": {
      "model_module": "@jupyter-widgets/output",
      "model_module_version": "1.0.0",
      "model_name": "OutputModel",
      "state": {
       "layout": "IPY_MODEL_6d0baf38fbb247ffb3c85d3e22655eeb"
      }
     },
     "e2b145afc281455d99c956a537a5d5dd": {
      "model_module": "@jupyter-widgets/controls",
      "model_module_version": "1.5.0",
      "model_name": "DatePickerModel",
      "state": {
       "description": "Start date:",
       "disabled": false,
       "layout": "IPY_MODEL_81353f0c781b4dc38245e0f5ad057d09",
       "style": "IPY_MODEL_b7d47d9b5f5e447e87f85d369e5cb6a3"
      }
     },
     "e52bdc2129664bc488a7466096161bd6": {
      "model_module": "@jupyter-widgets/base",
      "model_module_version": "1.2.0",
      "model_name": "LayoutModel",
      "state": {}
     },
     "e70e4583922f48519203fc63362fdacb": {
      "model_module": "@jupyter-widgets/output",
      "model_module_version": "1.0.0",
      "model_name": "OutputModel",
      "state": {
       "layout": "IPY_MODEL_26ea38540ee6451080aad98910371894"
      }
     },
     "e8593b43044c4ba8911ae5157def974e": {
      "model_module": "@jupyter-widgets/controls",
      "model_module_version": "1.5.0",
      "model_name": "HBoxModel",
      "state": {
       "children": [
        "IPY_MODEL_bef673c26aa540c89fd2651922ca4c8a",
        "IPY_MODEL_5defead4e9a9465998c71b664356178b"
       ],
       "layout": "IPY_MODEL_94457799ec5f41e38f5b065729114026"
      }
     },
     "e973a40be07444e29ad8bd3bcb6fc871": {
      "model_module": "@jupyter-widgets/base",
      "model_module_version": "1.2.0",
      "model_name": "LayoutModel",
      "state": {}
     },
     "eb5341a110f84ffa9cb32183c0e61a9b": {
      "model_module": "@jupyter-widgets/base",
      "model_module_version": "1.2.0",
      "model_name": "LayoutModel",
      "state": {}
     },
     "f24b6c5c41d84156ac8d6df14d8119fd": {
      "model_module": "refinitiv-widgets",
      "model_module_version": "3.3.2",
      "model_name": "RefinitivSelectModel",
      "state": {
       "_is_opened": false,
       "_widget_selector": "[data-selector='f24b6c5c41d84156ac8d6df14d8119fd']",
       "data": [
        {
         "items": [],
         "label": "Buy",
         "value": "Buy"
        },
        {
         "items": [],
         "label": "Sell",
         "value": "Sell"
        }
       ],
       "layout": "IPY_MODEL_9174a9312eda4369a84806c436a25c96",
       "max_height": 0,
       "max_width": 0,
       "placeholder": "Buy or Sell?",
       "tooltip": "",
       "width": 300
      }
     }
    },
    "version_major": 2,
    "version_minor": 0
   }
  }
 },
 "nbformat": 4,
 "nbformat_minor": 4
}
